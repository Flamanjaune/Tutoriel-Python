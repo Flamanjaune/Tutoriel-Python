{
  "cells": [
    {
      "attachments": {},
      "cell_type": "markdown",
      "id": "18c36e12-36fd-4837-b1a8-b1ddf0e9b65c",
      "metadata": {
        "trusted": true
      },
      "source": [
        "# 4 Listes et Data frames"
      ]
    },
    {
      "attachments": {},
      "cell_type": "markdown",
      "id": "9ef60717-9e46-4f96-bd01-fd813bac2590",
      "metadata": {
        "trusted": true
      },
      "source": [
        "## 4.1 Listes"
      ]
    },
    {
      "attachments": {},
      "cell_type": "markdown",
      "id": "fd1dff0d",
      "metadata": {},
      "source": [
        "Une liste est très proche d’un vecteur, à la différence près qu’une liste\n",
        "peut contenir des éléments de types différents. \n",
        "<br>\n",
        "En Python, une liste se crée à l’aide de **crochets**."
      ]
    },
    {
      "cell_type": "code",
      "execution_count": 9,
      "id": "1a9f8039",
      "metadata": {},
      "outputs": [
        {
          "data": {
            "text/plain": [
              "[5, 'cinq', False]"
            ]
          },
          "execution_count": 9,
          "metadata": {},
          "output_type": "execute_result"
        }
      ],
      "source": [
        "malist = [5, \"cinq\", False]\n",
        "malist"
      ]
    },
    {
      "attachments": {},
      "cell_type": "markdown",
      "id": "a7371c4a",
      "metadata": {},
      "source": [
        "Pour accéder à un élément d'une liste, on utilise **les crochets**."
      ]
    },
    {
      "cell_type": "code",
      "execution_count": 10,
      "id": "6fb7a465",
      "metadata": {},
      "outputs": [
        {
          "name": "stdout",
          "output_type": "stream",
          "text": [
            "5\n",
            "cinq\n",
            "False\n"
          ]
        }
      ],
      "source": [
        "print(malist[0])\n",
        "print(malist[1])\n",
        "print(malist[2])"
      ]
    },
    {
      "attachments": {},
      "cell_type": "markdown",
      "id": "33219fa1",
      "metadata": {},
      "source": [
        "**Attention :** En Python, la numérotation commence à 0 et non à 1 ! "
      ]
    },
    {
      "attachments": {},
      "cell_type": "markdown",
      "id": "d629f5a4",
      "metadata": {},
      "source": [
        "Il est possible de modifier un élément d'une liste à l'aide de la commande **=**."
      ]
    },
    {
      "cell_type": "code",
      "execution_count": 11,
      "id": "677215fd",
      "metadata": {},
      "outputs": [
        {
          "data": {
            "text/plain": [
              "[5, 'six', False]"
            ]
          },
          "execution_count": 11,
          "metadata": {},
          "output_type": "execute_result"
        }
      ],
      "source": [
        "malist[1] = \"six\"\n",
        "malist"
      ]
    },
    {
      "attachments": {},
      "cell_type": "markdown",
      "id": "bfe8c4ad",
      "metadata": {},
      "source": [
        "Il est possible d'ajouter un élément à une liste à l'aide de la commande **.append()**."
      ]
    },
    {
      "cell_type": "code",
      "execution_count": 12,
      "id": "b5886860",
      "metadata": {},
      "outputs": [
        {
          "data": {
            "text/plain": [
              "[5, 'six', False, 'hihi']"
            ]
          },
          "execution_count": 12,
          "metadata": {},
          "output_type": "execute_result"
        }
      ],
      "source": [
        "malist.append(\"hihi\")\n",
        "malist"
      ]
    },
    {
      "attachments": {},
      "cell_type": "markdown",
      "id": "d949ba79-f56c-4afc-a1ad-e55cf41c4f54",
      "metadata": {
        "trusted": true
      },
      "source": [
        "## 4.2 Data frames"
      ]
    },
    {
      "attachments": {},
      "cell_type": "markdown",
      "id": "6b412ec2-698b-47ac-820b-c126cb247417",
      "metadata": {
        "trusted": true
      },
      "source": [
        "### 4.2.1 Créer un Data frame"
      ]
    },
    {
      "attachments": {},
      "cell_type": "markdown",
      "id": "c72ccad9-b913-492e-80ce-9d8d61872546",
      "metadata": {
        "trusted": true
      },
      "source": [
        "### 4.2.2 Manipuler un Data frame"
      ]
    },
    {
      "attachments": {},
      "cell_type": "markdown",
      "id": "2840d96f-a110-410d-837a-dcff32141d84",
      "metadata": {
        "trusted": true
      },
      "source": [
        "### 4.2.3 Importer un fichier excel en Data Frame"
      ]
    }
  ],
  "metadata": {
    "celltoolbar": "Diaporama",
    "kernelspec": {
      "display_name": "base",
      "language": "python",
      "name": "python3"
    },
    "language_info": {
      "codemirror_mode": {
        "name": "ipython",
        "version": 3
      },
      "file_extension": ".py",
      "mimetype": "text/x-python",
      "name": "python",
      "nbconvert_exporter": "python",
      "pygments_lexer": "ipython3",
      "version": "3.9.13"
    },
    "vscode": {
      "interpreter": {
        "hash": "2843cabd0433704bf9af0eb427e5fac31b8e3c43971b08ae8afc4b2111159d22"
      }
    }
  },
  "nbformat": 4,
  "nbformat_minor": 5
}
