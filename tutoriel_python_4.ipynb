{
  "cells": [
    {
      "attachments": {},
      "cell_type": "markdown",
      "id": "18c36e12-36fd-4837-b1a8-b1ddf0e9b65c",
      "metadata": {
        "trusted": true
      },
      "source": [
        "# 4 Listes et Data frames"
      ]
    },
    {
      "attachments": {},
      "cell_type": "markdown",
      "id": "9ef60717-9e46-4f96-bd01-fd813bac2590",
      "metadata": {
        "trusted": true
      },
      "source": [
        "## 4.1 Listes"
      ]
    },
    {
      "attachments": {},
      "cell_type": "markdown",
      "id": "d949ba79-f56c-4afc-a1ad-e55cf41c4f54",
      "metadata": {
        "trusted": true
      },
      "source": [
        "## 4.2 Data frames"
      ]
    },
    {
      "attachments": {},
      "cell_type": "markdown",
      "id": "6b412ec2-698b-47ac-820b-c126cb247417",
      "metadata": {
        "trusted": true
      },
      "source": [
        "### 4.2.1 Créer un Data frame"
      ]
    },
    {
      "attachments": {},
      "cell_type": "markdown",
      "id": "c72ccad9-b913-492e-80ce-9d8d61872546",
      "metadata": {
        "trusted": true
      },
      "source": [
        "### 4.2.2 Manipuler un Data frame"
      ]
    },
    {
      "attachments": {},
      "cell_type": "markdown",
      "id": "2840d96f-a110-410d-837a-dcff32141d84",
      "metadata": {
        "trusted": true
      },
      "source": [
        "### 4.2.3 Importer un fichier excel en Data Frame"
      ]
    }
  ],
  "metadata": {
    "celltoolbar": "Diaporama",
    "kernelspec": {
      "display_name": "base",
      "language": "python",
      "name": "python3"
    },
    "language_info": {
      "codemirror_mode": {
        "name": "ipython",
        "version": 3
      },
      "file_extension": ".py",
      "mimetype": "text/x-python",
      "name": "python",
      "nbconvert_exporter": "python",
      "pygments_lexer": "ipython3",
      "version": "3.9.13"
    },
    "vscode": {
      "interpreter": {
        "hash": "2843cabd0433704bf9af0eb427e5fac31b8e3c43971b08ae8afc4b2111159d22"
      }
    }
  },
  "nbformat": 4,
  "nbformat_minor": 5
}
