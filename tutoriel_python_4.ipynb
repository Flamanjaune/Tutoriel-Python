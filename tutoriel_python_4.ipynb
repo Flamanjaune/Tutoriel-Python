{
  "cells": [
    {
      "attachments": {},
      "cell_type": "markdown",
      "id": "18c36e12-36fd-4837-b1a8-b1ddf0e9b65c",
      "metadata": {
        "trusted": true
      },
      "source": [
        "# 4 Listes et Data frames"
      ]
    },
    {
      "attachments": {},
      "cell_type": "markdown",
      "id": "9ef60717-9e46-4f96-bd01-fd813bac2590",
      "metadata": {
        "trusted": true
      },
      "source": [
        "## 4.1 Listes"
      ]
    },
    {
      "attachments": {},
      "cell_type": "markdown",
      "id": "fd1dff0d",
      "metadata": {},
      "source": [
        "Une liste est très proche d’un vecteur, à la différence près qu’une liste\n",
        "peut contenir des éléments de types différents. \n",
        "<br>\n",
        "En Python, une liste se crée à l’aide de **crochets**."
      ]
    },
    {
      "cell_type": "code",
      "execution_count": 47,
      "id": "1a9f8039",
      "metadata": {},
      "outputs": [
        {
          "data": {
            "text/plain": [
              "[5, 'cinq', False]"
            ]
          },
          "execution_count": 47,
          "metadata": {},
          "output_type": "execute_result"
        }
      ],
      "source": [
        "malist = [5, \"cinq\", False]\n",
        "malist"
      ]
    },
    {
      "attachments": {},
      "cell_type": "markdown",
      "id": "a7371c4a",
      "metadata": {},
      "source": [
        "Pour accéder à un élément d'une liste, on utilise **les crochets**."
      ]
    },
    {
      "cell_type": "code",
      "execution_count": 48,
      "id": "6fb7a465",
      "metadata": {},
      "outputs": [
        {
          "name": "stdout",
          "output_type": "stream",
          "text": [
            "5\n",
            "cinq\n",
            "False\n"
          ]
        }
      ],
      "source": [
        "print(malist[0])\n",
        "print(malist[1])\n",
        "print(malist[2])"
      ]
    },
    {
      "attachments": {},
      "cell_type": "markdown",
      "id": "33219fa1",
      "metadata": {},
      "source": [
        "**Attention :** En Python, la numérotation commence à 0 et non à 1 ! "
      ]
    },
    {
      "attachments": {},
      "cell_type": "markdown",
      "id": "d629f5a4",
      "metadata": {},
      "source": [
        "Il est possible de modifier un élément d'une liste à l'aide de la commande **=**."
      ]
    },
    {
      "cell_type": "code",
      "execution_count": 49,
      "id": "677215fd",
      "metadata": {},
      "outputs": [
        {
          "data": {
            "text/plain": [
              "[5, 'six', False]"
            ]
          },
          "execution_count": 49,
          "metadata": {},
          "output_type": "execute_result"
        }
      ],
      "source": [
        "malist[1] = \"six\"\n",
        "malist"
      ]
    },
    {
      "attachments": {},
      "cell_type": "markdown",
      "id": "bfe8c4ad",
      "metadata": {},
      "source": [
        "Il est possible d'ajouter un élément à une liste à l'aide de la commande **.append()**."
      ]
    },
    {
      "cell_type": "code",
      "execution_count": 50,
      "id": "b5886860",
      "metadata": {},
      "outputs": [
        {
          "data": {
            "text/plain": [
              "[5, 'six', False, 'hihi']"
            ]
          },
          "execution_count": 50,
          "metadata": {},
          "output_type": "execute_result"
        }
      ],
      "source": [
        "malist.append(\"hihi\")\n",
        "malist"
      ]
    },
    {
      "attachments": {},
      "cell_type": "markdown",
      "id": "d949ba79-f56c-4afc-a1ad-e55cf41c4f54",
      "metadata": {
        "trusted": true
      },
      "source": [
        "## 4.2 Data frames"
      ]
    },
    {
      "attachments": {},
      "cell_type": "markdown",
      "id": "6ee987b8",
      "metadata": {},
      "source": [
        "En Python, le package principale pour créer et gérer les dataframes est **pandas**."
      ]
    },
    {
      "cell_type": "code",
      "execution_count": 52,
      "id": "9b0386d9",
      "metadata": {},
      "outputs": [],
      "source": [
        "import pandas as pd"
      ]
    },
    {
      "attachments": {},
      "cell_type": "markdown",
      "id": "6b412ec2-698b-47ac-820b-c126cb247417",
      "metadata": {
        "trusted": true
      },
      "source": [
        "### 4.2.1 Créer un Data frame"
      ]
    },
    {
      "attachments": {},
      "cell_type": "markdown",
      "id": "a974da78",
      "metadata": {},
      "source": [
        "Pour créer un dataframe en Python, une des manières les plus simple est d'utiliser **un dictionnaire**.\n",
        "<br>\n",
        "**Un dictionnaire** en Python est **une collection de liste de mêmes taille**."
      ]
    },
    {
      "cell_type": "code",
      "execution_count": 55,
      "id": "16cdde9a",
      "metadata": {},
      "outputs": [
        {
          "data": {
            "text/plain": [
              "dict"
            ]
          },
          "execution_count": 55,
          "metadata": {},
          "output_type": "execute_result"
        }
      ],
      "source": [
        "d = {'c1': [1, 2, 3, 4, 5], 'c2': [6, 7, 8, 9, 10], 'c3': [11, 12, 13, 14, 15]}\n",
        "type(d)"
      ]
    },
    {
      "attachments": {},
      "cell_type": "markdown",
      "id": "cddb64e3",
      "metadata": {},
      "source": [
        "La commande **DataFrame()** de pandas permet de convertir un dictionnaire en dataframe."
      ]
    },
    {
      "cell_type": "code",
      "execution_count": 56,
      "id": "44edc1da",
      "metadata": {},
      "outputs": [
        {
          "data": {
            "text/html": [
              "<div>\n",
              "<style scoped>\n",
              "    .dataframe tbody tr th:only-of-type {\n",
              "        vertical-align: middle;\n",
              "    }\n",
              "\n",
              "    .dataframe tbody tr th {\n",
              "        vertical-align: top;\n",
              "    }\n",
              "\n",
              "    .dataframe thead th {\n",
              "        text-align: right;\n",
              "    }\n",
              "</style>\n",
              "<table border=\"1\" class=\"dataframe\">\n",
              "  <thead>\n",
              "    <tr style=\"text-align: right;\">\n",
              "      <th></th>\n",
              "      <th>c1</th>\n",
              "      <th>c2</th>\n",
              "      <th>c3</th>\n",
              "    </tr>\n",
              "  </thead>\n",
              "  <tbody>\n",
              "    <tr>\n",
              "      <th>0</th>\n",
              "      <td>1</td>\n",
              "      <td>6</td>\n",
              "      <td>11</td>\n",
              "    </tr>\n",
              "    <tr>\n",
              "      <th>1</th>\n",
              "      <td>2</td>\n",
              "      <td>7</td>\n",
              "      <td>12</td>\n",
              "    </tr>\n",
              "    <tr>\n",
              "      <th>2</th>\n",
              "      <td>3</td>\n",
              "      <td>8</td>\n",
              "      <td>13</td>\n",
              "    </tr>\n",
              "    <tr>\n",
              "      <th>3</th>\n",
              "      <td>4</td>\n",
              "      <td>9</td>\n",
              "      <td>14</td>\n",
              "    </tr>\n",
              "    <tr>\n",
              "      <th>4</th>\n",
              "      <td>5</td>\n",
              "      <td>10</td>\n",
              "      <td>15</td>\n",
              "    </tr>\n",
              "  </tbody>\n",
              "</table>\n",
              "</div>"
            ],
            "text/plain": [
              "   c1  c2  c3\n",
              "0   1   6  11\n",
              "1   2   7  12\n",
              "2   3   8  13\n",
              "3   4   9  14\n",
              "4   5  10  15"
            ]
          },
          "execution_count": 56,
          "metadata": {},
          "output_type": "execute_result"
        }
      ],
      "source": [
        "df = pd.DataFrame(d)\n",
        "df"
      ]
    },
    {
      "attachments": {},
      "cell_type": "markdown",
      "id": "437cc9c6",
      "metadata": {},
      "source": [
        "Chanque entrée du dictionnaire correspond à **une colonne** du dataframe.\n",
        "<br>\n",
        "Les éléments des listes forment **les lignes** du dataframe."
      ]
    },
    {
      "attachments": {},
      "cell_type": "markdown",
      "id": "e998f225",
      "metadata": {},
      "source": [
        "Les dataframes peuvent contenir des informations de différents types. \n",
        "<br>\n",
        "Il faut juste que chaque liste contienne le même nombre d'éléments."
      ]
    },
    {
      "cell_type": "code",
      "execution_count": 57,
      "id": "6df2d5d5",
      "metadata": {},
      "outputs": [
        {
          "data": {
            "text/html": [
              "<div>\n",
              "<style scoped>\n",
              "    .dataframe tbody tr th:only-of-type {\n",
              "        vertical-align: middle;\n",
              "    }\n",
              "\n",
              "    .dataframe tbody tr th {\n",
              "        vertical-align: top;\n",
              "    }\n",
              "\n",
              "    .dataframe thead th {\n",
              "        text-align: right;\n",
              "    }\n",
              "</style>\n",
              "<table border=\"1\" class=\"dataframe\">\n",
              "  <thead>\n",
              "    <tr style=\"text-align: right;\">\n",
              "      <th></th>\n",
              "      <th>nom</th>\n",
              "      <th>age</th>\n",
              "      <th>canton</th>\n",
              "    </tr>\n",
              "  </thead>\n",
              "  <tbody>\n",
              "    <tr>\n",
              "      <th>0</th>\n",
              "      <td>Louis</td>\n",
              "      <td>18</td>\n",
              "      <td>vs</td>\n",
              "    </tr>\n",
              "    <tr>\n",
              "      <th>1</th>\n",
              "      <td>Jeanne</td>\n",
              "      <td>22</td>\n",
              "      <td>be</td>\n",
              "    </tr>\n",
              "    <tr>\n",
              "      <th>2</th>\n",
              "      <td>Marc</td>\n",
              "      <td>27</td>\n",
              "      <td>vs</td>\n",
              "    </tr>\n",
              "    <tr>\n",
              "      <th>3</th>\n",
              "      <td>Lucie</td>\n",
              "      <td>19</td>\n",
              "      <td>ti</td>\n",
              "    </tr>\n",
              "    <tr>\n",
              "      <th>4</th>\n",
              "      <td>Constance</td>\n",
              "      <td>24</td>\n",
              "      <td>vd</td>\n",
              "    </tr>\n",
              "  </tbody>\n",
              "</table>\n",
              "</div>"
            ],
            "text/plain": [
              "         nom  age canton\n",
              "0      Louis   18     vs\n",
              "1     Jeanne   22     be\n",
              "2       Marc   27     vs\n",
              "3      Lucie   19     ti\n",
              "4  Constance   24     vd"
            ]
          },
          "execution_count": 57,
          "metadata": {},
          "output_type": "execute_result"
        }
      ],
      "source": [
        "d = {\"nom\": [\"Louis\", \"Jeanne\", \"Marc\", \"Lucie\", \"Constance\"], \"age\": [18, 22, 27, 19, 24], \"canton\": [\"vs\", \"be\", \"vs\", \"ti\", \"vd\"]}\n",
        "df = pd.DataFrame(d)\n",
        "df"
      ]
    },
    {
      "attachments": {},
      "cell_type": "markdown",
      "id": "c72ccad9-b913-492e-80ce-9d8d61872546",
      "metadata": {
        "trusted": true
      },
      "source": [
        "### 4.2.2 Manipuler un Data frame"
      ]
    },
    {
      "attachments": {},
      "cell_type": "markdown",
      "id": "b49c1e13",
      "metadata": {},
      "source": [
        "Pour avoir un aperçu d'un dataframe, on peut utiliser la commande **head()**."
      ]
    },
    {
      "cell_type": "code",
      "execution_count": 77,
      "id": "28d1e73e",
      "metadata": {},
      "outputs": [
        {
          "data": {
            "text/html": [
              "<div>\n",
              "<style scoped>\n",
              "    .dataframe tbody tr th:only-of-type {\n",
              "        vertical-align: middle;\n",
              "    }\n",
              "\n",
              "    .dataframe tbody tr th {\n",
              "        vertical-align: top;\n",
              "    }\n",
              "\n",
              "    .dataframe thead th {\n",
              "        text-align: right;\n",
              "    }\n",
              "</style>\n",
              "<table border=\"1\" class=\"dataframe\">\n",
              "  <thead>\n",
              "    <tr style=\"text-align: right;\">\n",
              "      <th></th>\n",
              "      <th>nom</th>\n",
              "      <th>age</th>\n",
              "      <th>canton</th>\n",
              "    </tr>\n",
              "  </thead>\n",
              "  <tbody>\n",
              "    <tr>\n",
              "      <th>0</th>\n",
              "      <td>Louis</td>\n",
              "      <td>18</td>\n",
              "      <td>vs</td>\n",
              "    </tr>\n",
              "    <tr>\n",
              "      <th>1</th>\n",
              "      <td>Jeanne</td>\n",
              "      <td>22</td>\n",
              "      <td>be</td>\n",
              "    </tr>\n",
              "    <tr>\n",
              "      <th>2</th>\n",
              "      <td>Marc</td>\n",
              "      <td>27</td>\n",
              "      <td>vs</td>\n",
              "    </tr>\n",
              "    <tr>\n",
              "      <th>3</th>\n",
              "      <td>Lucie</td>\n",
              "      <td>19</td>\n",
              "      <td>ti</td>\n",
              "    </tr>\n",
              "    <tr>\n",
              "      <th>4</th>\n",
              "      <td>Constance</td>\n",
              "      <td>24</td>\n",
              "      <td>vd</td>\n",
              "    </tr>\n",
              "  </tbody>\n",
              "</table>\n",
              "</div>"
            ],
            "text/plain": [
              "         nom  age canton\n",
              "0      Louis   18     vs\n",
              "1     Jeanne   22     be\n",
              "2       Marc   27     vs\n",
              "3      Lucie   19     ti\n",
              "4  Constance   24     vd"
            ]
          },
          "execution_count": 77,
          "metadata": {},
          "output_type": "execute_result"
        }
      ],
      "source": [
        "df.head()"
      ]
    },
    {
      "attachments": {},
      "cell_type": "markdown",
      "id": "a700744e",
      "metadata": {},
      "source": [
        "Le nombre de ligne et de colonne d'un dataframe peut être obtenu à l'aide de la commande **shape**."
      ]
    },
    {
      "cell_type": "code",
      "execution_count": 59,
      "id": "665065c9",
      "metadata": {},
      "outputs": [
        {
          "data": {
            "text/plain": [
              "(5, 3)"
            ]
          },
          "execution_count": 59,
          "metadata": {},
          "output_type": "execute_result"
        }
      ],
      "source": [
        "df.shape"
      ]
    },
    {
      "attachments": {},
      "cell_type": "markdown",
      "id": "3dd5d8fb",
      "metadata": {},
      "source": [
        "Pour accéder à **une colonne** en particulier, on écrit le nom de la colonne **entre crochets [ ]**."
      ]
    },
    {
      "cell_type": "code",
      "execution_count": 60,
      "id": "1a749060",
      "metadata": {},
      "outputs": [
        {
          "data": {
            "text/plain": [
              "0    18\n",
              "1    22\n",
              "2    27\n",
              "3    19\n",
              "4    24\n",
              "Name: age, dtype: int64"
            ]
          },
          "execution_count": 60,
          "metadata": {},
          "output_type": "execute_result"
        }
      ],
      "source": [
        "df[\"age\"]"
      ]
    },
    {
      "attachments": {},
      "cell_type": "markdown",
      "id": "531f38a6",
      "metadata": {},
      "source": [
        "De manière similaire, on peut utiliser **.nom_de_colonne**."
      ]
    },
    {
      "cell_type": "code",
      "execution_count": 61,
      "id": "6cad9b8f",
      "metadata": {},
      "outputs": [
        {
          "data": {
            "text/plain": [
              "0    18\n",
              "1    22\n",
              "2    27\n",
              "3    19\n",
              "4    24\n",
              "Name: age, dtype: int64"
            ]
          },
          "execution_count": 61,
          "metadata": {},
          "output_type": "execute_result"
        }
      ],
      "source": [
        "df.age"
      ]
    },
    {
      "attachments": {},
      "cell_type": "markdown",
      "id": "35d4c04d",
      "metadata": {},
      "source": [
        "Pour accéder à **une ligne** en particulier, on utilise la commande **loc[ ]**."
      ]
    },
    {
      "cell_type": "code",
      "execution_count": 62,
      "id": "e8e3e158",
      "metadata": {},
      "outputs": [
        {
          "data": {
            "text/plain": [
              "nom       Jeanne\n",
              "age           22\n",
              "canton        be\n",
              "Name: 1, dtype: object"
            ]
          },
          "execution_count": 62,
          "metadata": {},
          "output_type": "execute_result"
        }
      ],
      "source": [
        "df.loc[1]"
      ]
    },
    {
      "attachments": {},
      "cell_type": "markdown",
      "id": "eb10ed9b",
      "metadata": {},
      "source": [
        "La commande **loc[ ]** permet aussi d'avoir certaines ligne d'une certaine colonne."
      ]
    },
    {
      "cell_type": "code",
      "execution_count": 69,
      "id": "5f71b3c8",
      "metadata": {},
      "outputs": [
        {
          "data": {
            "text/plain": [
              "0     Louis\n",
              "1    Jeanne\n",
              "2      Marc\n",
              "3     Lucie\n",
              "Name: nom, dtype: object"
            ]
          },
          "execution_count": 69,
          "metadata": {},
          "output_type": "execute_result"
        }
      ],
      "source": [
        "df.loc[0:3, \"nom\"]"
      ]
    },
    {
      "attachments": {},
      "cell_type": "markdown",
      "id": "c0c5a76d",
      "metadata": {},
      "source": [
        "La commande **iloc[ ]** permet d'obtenir certaines **lignes** et certaines **colonnes** d'un dataframe."
      ]
    },
    {
      "cell_type": "code",
      "execution_count": 68,
      "id": "c4550418",
      "metadata": {},
      "outputs": [
        {
          "data": {
            "text/html": [
              "<div>\n",
              "<style scoped>\n",
              "    .dataframe tbody tr th:only-of-type {\n",
              "        vertical-align: middle;\n",
              "    }\n",
              "\n",
              "    .dataframe tbody tr th {\n",
              "        vertical-align: top;\n",
              "    }\n",
              "\n",
              "    .dataframe thead th {\n",
              "        text-align: right;\n",
              "    }\n",
              "</style>\n",
              "<table border=\"1\" class=\"dataframe\">\n",
              "  <thead>\n",
              "    <tr style=\"text-align: right;\">\n",
              "      <th></th>\n",
              "      <th>nom</th>\n",
              "      <th>age</th>\n",
              "    </tr>\n",
              "  </thead>\n",
              "  <tbody>\n",
              "    <tr>\n",
              "      <th>0</th>\n",
              "      <td>Louis</td>\n",
              "      <td>18</td>\n",
              "    </tr>\n",
              "    <tr>\n",
              "      <th>1</th>\n",
              "      <td>Jeanne</td>\n",
              "      <td>22</td>\n",
              "    </tr>\n",
              "    <tr>\n",
              "      <th>2</th>\n",
              "      <td>Marc</td>\n",
              "      <td>27</td>\n",
              "    </tr>\n",
              "    <tr>\n",
              "      <th>3</th>\n",
              "      <td>Lucie</td>\n",
              "      <td>19</td>\n",
              "    </tr>\n",
              "  </tbody>\n",
              "</table>\n",
              "</div>"
            ],
            "text/plain": [
              "      nom  age\n",
              "0   Louis   18\n",
              "1  Jeanne   22\n",
              "2    Marc   27\n",
              "3   Lucie   19"
            ]
          },
          "execution_count": 68,
          "metadata": {},
          "output_type": "execute_result"
        }
      ],
      "source": [
        "df.iloc[0:4,0:2]"
      ]
    },
    {
      "attachments": {},
      "cell_type": "markdown",
      "id": "b8ef6dd8",
      "metadata": {},
      "source": [
        "Pour trier un dataframe selon une certaine colonne, on utilise la commande **sort_values**."
      ]
    },
    {
      "cell_type": "code",
      "execution_count": 70,
      "id": "e3664e80",
      "metadata": {},
      "outputs": [
        {
          "data": {
            "text/html": [
              "<div>\n",
              "<style scoped>\n",
              "    .dataframe tbody tr th:only-of-type {\n",
              "        vertical-align: middle;\n",
              "    }\n",
              "\n",
              "    .dataframe tbody tr th {\n",
              "        vertical-align: top;\n",
              "    }\n",
              "\n",
              "    .dataframe thead th {\n",
              "        text-align: right;\n",
              "    }\n",
              "</style>\n",
              "<table border=\"1\" class=\"dataframe\">\n",
              "  <thead>\n",
              "    <tr style=\"text-align: right;\">\n",
              "      <th></th>\n",
              "      <th>nom</th>\n",
              "      <th>age</th>\n",
              "      <th>canton</th>\n",
              "    </tr>\n",
              "  </thead>\n",
              "  <tbody>\n",
              "    <tr>\n",
              "      <th>0</th>\n",
              "      <td>Louis</td>\n",
              "      <td>18</td>\n",
              "      <td>vs</td>\n",
              "    </tr>\n",
              "    <tr>\n",
              "      <th>3</th>\n",
              "      <td>Lucie</td>\n",
              "      <td>19</td>\n",
              "      <td>ti</td>\n",
              "    </tr>\n",
              "    <tr>\n",
              "      <th>1</th>\n",
              "      <td>Jeanne</td>\n",
              "      <td>22</td>\n",
              "      <td>be</td>\n",
              "    </tr>\n",
              "    <tr>\n",
              "      <th>4</th>\n",
              "      <td>Constance</td>\n",
              "      <td>24</td>\n",
              "      <td>vd</td>\n",
              "    </tr>\n",
              "    <tr>\n",
              "      <th>2</th>\n",
              "      <td>Marc</td>\n",
              "      <td>27</td>\n",
              "      <td>vs</td>\n",
              "    </tr>\n",
              "  </tbody>\n",
              "</table>\n",
              "</div>"
            ],
            "text/plain": [
              "         nom  age canton\n",
              "0      Louis   18     vs\n",
              "3      Lucie   19     ti\n",
              "1     Jeanne   22     be\n",
              "4  Constance   24     vd\n",
              "2       Marc   27     vs"
            ]
          },
          "execution_count": 70,
          "metadata": {},
          "output_type": "execute_result"
        }
      ],
      "source": [
        "df.sort_values(by=['age'], ascending=True)"
      ]
    },
    {
      "attachments": {},
      "cell_type": "markdown",
      "id": "7c90d686",
      "metadata": {},
      "source": [
        "On peut aussi trier un dataframe à l'aide d'opérateurs logiques."
      ]
    },
    {
      "cell_type": "code",
      "execution_count": 71,
      "id": "e11899f3",
      "metadata": {},
      "outputs": [
        {
          "data": {
            "text/html": [
              "<div>\n",
              "<style scoped>\n",
              "    .dataframe tbody tr th:only-of-type {\n",
              "        vertical-align: middle;\n",
              "    }\n",
              "\n",
              "    .dataframe tbody tr th {\n",
              "        vertical-align: top;\n",
              "    }\n",
              "\n",
              "    .dataframe thead th {\n",
              "        text-align: right;\n",
              "    }\n",
              "</style>\n",
              "<table border=\"1\" class=\"dataframe\">\n",
              "  <thead>\n",
              "    <tr style=\"text-align: right;\">\n",
              "      <th></th>\n",
              "      <th>nom</th>\n",
              "      <th>age</th>\n",
              "      <th>canton</th>\n",
              "    </tr>\n",
              "  </thead>\n",
              "  <tbody>\n",
              "    <tr>\n",
              "      <th>1</th>\n",
              "      <td>Jeanne</td>\n",
              "      <td>22</td>\n",
              "      <td>be</td>\n",
              "    </tr>\n",
              "    <tr>\n",
              "      <th>2</th>\n",
              "      <td>Marc</td>\n",
              "      <td>27</td>\n",
              "      <td>vs</td>\n",
              "    </tr>\n",
              "    <tr>\n",
              "      <th>4</th>\n",
              "      <td>Constance</td>\n",
              "      <td>24</td>\n",
              "      <td>vd</td>\n",
              "    </tr>\n",
              "  </tbody>\n",
              "</table>\n",
              "</div>"
            ],
            "text/plain": [
              "         nom  age canton\n",
              "1     Jeanne   22     be\n",
              "2       Marc   27     vs\n",
              "4  Constance   24     vd"
            ]
          },
          "execution_count": 71,
          "metadata": {},
          "output_type": "execute_result"
        }
      ],
      "source": [
        "df[df[\"age\"] > 21]"
      ]
    },
    {
      "cell_type": "code",
      "execution_count": 72,
      "id": "3116cbb1",
      "metadata": {},
      "outputs": [
        {
          "data": {
            "text/html": [
              "<div>\n",
              "<style scoped>\n",
              "    .dataframe tbody tr th:only-of-type {\n",
              "        vertical-align: middle;\n",
              "    }\n",
              "\n",
              "    .dataframe tbody tr th {\n",
              "        vertical-align: top;\n",
              "    }\n",
              "\n",
              "    .dataframe thead th {\n",
              "        text-align: right;\n",
              "    }\n",
              "</style>\n",
              "<table border=\"1\" class=\"dataframe\">\n",
              "  <thead>\n",
              "    <tr style=\"text-align: right;\">\n",
              "      <th></th>\n",
              "      <th>nom</th>\n",
              "      <th>age</th>\n",
              "      <th>canton</th>\n",
              "    </tr>\n",
              "  </thead>\n",
              "  <tbody>\n",
              "    <tr>\n",
              "      <th>0</th>\n",
              "      <td>Louis</td>\n",
              "      <td>18</td>\n",
              "      <td>vs</td>\n",
              "    </tr>\n",
              "    <tr>\n",
              "      <th>2</th>\n",
              "      <td>Marc</td>\n",
              "      <td>27</td>\n",
              "      <td>vs</td>\n",
              "    </tr>\n",
              "  </tbody>\n",
              "</table>\n",
              "</div>"
            ],
            "text/plain": [
              "     nom  age canton\n",
              "0  Louis   18     vs\n",
              "2   Marc   27     vs"
            ]
          },
          "execution_count": 72,
          "metadata": {},
          "output_type": "execute_result"
        }
      ],
      "source": [
        "df[df[\"canton\"] == \"vs\"]"
      ]
    },
    {
      "cell_type": "code",
      "execution_count": 73,
      "id": "1d8e5409",
      "metadata": {},
      "outputs": [
        {
          "data": {
            "text/html": [
              "<div>\n",
              "<style scoped>\n",
              "    .dataframe tbody tr th:only-of-type {\n",
              "        vertical-align: middle;\n",
              "    }\n",
              "\n",
              "    .dataframe tbody tr th {\n",
              "        vertical-align: top;\n",
              "    }\n",
              "\n",
              "    .dataframe thead th {\n",
              "        text-align: right;\n",
              "    }\n",
              "</style>\n",
              "<table border=\"1\" class=\"dataframe\">\n",
              "  <thead>\n",
              "    <tr style=\"text-align: right;\">\n",
              "      <th></th>\n",
              "      <th>nom</th>\n",
              "      <th>age</th>\n",
              "      <th>canton</th>\n",
              "    </tr>\n",
              "  </thead>\n",
              "  <tbody>\n",
              "    <tr>\n",
              "      <th>4</th>\n",
              "      <td>Constance</td>\n",
              "      <td>24</td>\n",
              "      <td>vd</td>\n",
              "    </tr>\n",
              "  </tbody>\n",
              "</table>\n",
              "</div>"
            ],
            "text/plain": [
              "         nom  age canton\n",
              "4  Constance   24     vd"
            ]
          },
          "execution_count": 73,
          "metadata": {},
          "output_type": "execute_result"
        }
      ],
      "source": [
        "df[df.canton == \"vd\"]"
      ]
    },
    {
      "attachments": {},
      "cell_type": "markdown",
      "id": "2840d96f-a110-410d-837a-dcff32141d84",
      "metadata": {
        "trusted": true
      },
      "source": [
        "### 4.2.3 Importer un fichier .csv en Data Frame"
      ]
    },
    {
      "attachments": {},
      "cell_type": "markdown",
      "id": "857a9dc2",
      "metadata": {},
      "source": [
        "Pour importer un fichier **.csv** en Python, on utilise la commande **read_csv()** de pandas.\n",
        "<br>\n",
        "Il faut faire particulièrement attention **au séparateur** et **au sybole des décimales**."
      ]
    },
    {
      "cell_type": "code",
      "execution_count": 74,
      "id": "ef7f665a",
      "metadata": {},
      "outputs": [
        {
          "data": {
            "text/html": [
              "<div>\n",
              "<style scoped>\n",
              "    .dataframe tbody tr th:only-of-type {\n",
              "        vertical-align: middle;\n",
              "    }\n",
              "\n",
              "    .dataframe tbody tr th {\n",
              "        vertical-align: top;\n",
              "    }\n",
              "\n",
              "    .dataframe thead th {\n",
              "        text-align: right;\n",
              "    }\n",
              "</style>\n",
              "<table border=\"1\" class=\"dataframe\">\n",
              "  <thead>\n",
              "    <tr style=\"text-align: right;\">\n",
              "      <th></th>\n",
              "      <th></th>\n",
              "      <th>iso;umd_tree_cover_loss__year;umd_tree_cover_loss__ha;umd_tree_cover_loss_from_fires__ha</th>\n",
              "    </tr>\n",
              "  </thead>\n",
              "  <tbody>\n",
              "    <tr>\n",
              "      <th>AUS;2001;218816</th>\n",
              "      <th>3021;154497</th>\n",
              "      <td>154</td>\n",
              "    </tr>\n",
              "    <tr>\n",
              "      <th>ESP;2001;32811</th>\n",
              "      <th>05352;7521</th>\n",
              "      <td>44567</td>\n",
              "    </tr>\n",
              "    <tr>\n",
              "      <th>FRA;2001;34420</th>\n",
              "      <th>96339;1602</th>\n",
              "      <td>153341</td>\n",
              "    </tr>\n",
              "    <tr>\n",
              "      <th>SWZ;2001;6734</th>\n",
              "      <th>853711;44</th>\n",
              "      <td>10780785</td>\n",
              "    </tr>\n",
              "    <tr>\n",
              "      <th>USA;2001;1943080</th>\n",
              "      <th>844;294588</th>\n",
              "      <td>3313</td>\n",
              "    </tr>\n",
              "    <tr>\n",
              "      <th>...</th>\n",
              "      <th>...</th>\n",
              "      <td>...</td>\n",
              "    </tr>\n",
              "    <tr>\n",
              "      <th>AUS;2021;261043</th>\n",
              "      <th>5535;132480</th>\n",
              "      <td>9961</td>\n",
              "    </tr>\n",
              "    <tr>\n",
              "      <th>ESP;2021;85791</th>\n",
              "      <th>95758;16094</th>\n",
              "      <td>52825</td>\n",
              "    </tr>\n",
              "    <tr>\n",
              "      <th>FRA;2021;112886</th>\n",
              "      <th>0348;3507</th>\n",
              "      <td>696494</td>\n",
              "    </tr>\n",
              "    <tr>\n",
              "      <th>SWZ;2021;3160</th>\n",
              "      <th>017833;64</th>\n",
              "      <td>2724195</td>\n",
              "    </tr>\n",
              "    <tr>\n",
              "      <th>USA;2021;2043919</th>\n",
              "      <th>938;845693</th>\n",
              "      <td>9824</td>\n",
              "    </tr>\n",
              "  </tbody>\n",
              "</table>\n",
              "<p>105 rows × 1 columns</p>\n",
              "</div>"
            ],
            "text/plain": [
              "                              iso;umd_tree_cover_loss__year;umd_tree_cover_loss__ha;umd_tree_cover_loss_from_fires__ha\n",
              "AUS;2001;218816  3021;154497                                                154                                       \n",
              "ESP;2001;32811   05352;7521                                               44567                                       \n",
              "FRA;2001;34420   96339;1602                                              153341                                       \n",
              "SWZ;2001;6734    853711;44                                             10780785                                       \n",
              "USA;2001;1943080 844;294588                                                3313                                       \n",
              "...                                                                         ...                                       \n",
              "AUS;2021;261043  5535;132480                                               9961                                       \n",
              "ESP;2021;85791   95758;16094                                              52825                                       \n",
              "FRA;2021;112886  0348;3507                                               696494                                       \n",
              "SWZ;2021;3160    017833;64                                              2724195                                       \n",
              "USA;2021;2043919 938;845693                                                9824                                       \n",
              "\n",
              "[105 rows x 1 columns]"
            ]
          },
          "execution_count": 74,
          "metadata": {},
          "output_type": "execute_result"
        }
      ],
      "source": [
        "data = pd.read_csv(\"forestfires.csv\")\n",
        "data"
      ]
    },
    {
      "cell_type": "code",
      "execution_count": 78,
      "id": "04639173",
      "metadata": {},
      "outputs": [
        {
          "data": {
            "text/html": [
              "<div>\n",
              "<style scoped>\n",
              "    .dataframe tbody tr th:only-of-type {\n",
              "        vertical-align: middle;\n",
              "    }\n",
              "\n",
              "    .dataframe tbody tr th {\n",
              "        vertical-align: top;\n",
              "    }\n",
              "\n",
              "    .dataframe thead th {\n",
              "        text-align: right;\n",
              "    }\n",
              "</style>\n",
              "<table border=\"1\" class=\"dataframe\">\n",
              "  <thead>\n",
              "    <tr style=\"text-align: right;\">\n",
              "      <th></th>\n",
              "      <th>iso</th>\n",
              "      <th>umd_tree_cover_loss__year</th>\n",
              "      <th>umd_tree_cover_loss__ha</th>\n",
              "      <th>umd_tree_cover_loss_from_fires__ha</th>\n",
              "    </tr>\n",
              "  </thead>\n",
              "  <tbody>\n",
              "    <tr>\n",
              "      <th>0</th>\n",
              "      <td>AUS</td>\n",
              "      <td>2001</td>\n",
              "      <td>218816,3021</td>\n",
              "      <td>154497,154</td>\n",
              "    </tr>\n",
              "    <tr>\n",
              "      <th>1</th>\n",
              "      <td>ESP</td>\n",
              "      <td>2001</td>\n",
              "      <td>32811,05352</td>\n",
              "      <td>7521,44567</td>\n",
              "    </tr>\n",
              "    <tr>\n",
              "      <th>2</th>\n",
              "      <td>FRA</td>\n",
              "      <td>2001</td>\n",
              "      <td>34420,96339</td>\n",
              "      <td>1602,153341</td>\n",
              "    </tr>\n",
              "    <tr>\n",
              "      <th>3</th>\n",
              "      <td>SWZ</td>\n",
              "      <td>2001</td>\n",
              "      <td>6734,853711</td>\n",
              "      <td>44,10780785</td>\n",
              "    </tr>\n",
              "    <tr>\n",
              "      <th>4</th>\n",
              "      <td>USA</td>\n",
              "      <td>2001</td>\n",
              "      <td>1943080,844</td>\n",
              "      <td>294588,3313</td>\n",
              "    </tr>\n",
              "  </tbody>\n",
              "</table>\n",
              "</div>"
            ],
            "text/plain": [
              "   iso  umd_tree_cover_loss__year umd_tree_cover_loss__ha  \\\n",
              "0  AUS                       2001             218816,3021   \n",
              "1  ESP                       2001             32811,05352   \n",
              "2  FRA                       2001             34420,96339   \n",
              "3  SWZ                       2001             6734,853711   \n",
              "4  USA                       2001             1943080,844   \n",
              "\n",
              "  umd_tree_cover_loss_from_fires__ha  \n",
              "0                         154497,154  \n",
              "1                         7521,44567  \n",
              "2                        1602,153341  \n",
              "3                        44,10780785  \n",
              "4                        294588,3313  "
            ]
          },
          "execution_count": 78,
          "metadata": {},
          "output_type": "execute_result"
        }
      ],
      "source": [
        "data = pd.read_csv(\"forestfires.csv\", sep=';')\n",
        "data.head()"
      ]
    },
    {
      "cell_type": "code",
      "execution_count": 79,
      "id": "24fdd4eb",
      "metadata": {},
      "outputs": [
        {
          "data": {
            "text/html": [
              "<div>\n",
              "<style scoped>\n",
              "    .dataframe tbody tr th:only-of-type {\n",
              "        vertical-align: middle;\n",
              "    }\n",
              "\n",
              "    .dataframe tbody tr th {\n",
              "        vertical-align: top;\n",
              "    }\n",
              "\n",
              "    .dataframe thead th {\n",
              "        text-align: right;\n",
              "    }\n",
              "</style>\n",
              "<table border=\"1\" class=\"dataframe\">\n",
              "  <thead>\n",
              "    <tr style=\"text-align: right;\">\n",
              "      <th></th>\n",
              "      <th>iso</th>\n",
              "      <th>umd_tree_cover_loss__year</th>\n",
              "      <th>umd_tree_cover_loss__ha</th>\n",
              "      <th>umd_tree_cover_loss_from_fires__ha</th>\n",
              "    </tr>\n",
              "  </thead>\n",
              "  <tbody>\n",
              "    <tr>\n",
              "      <th>0</th>\n",
              "      <td>AUS</td>\n",
              "      <td>2001</td>\n",
              "      <td>2.188163e+05</td>\n",
              "      <td>154497.154000</td>\n",
              "    </tr>\n",
              "    <tr>\n",
              "      <th>1</th>\n",
              "      <td>ESP</td>\n",
              "      <td>2001</td>\n",
              "      <td>3.281105e+04</td>\n",
              "      <td>7521.445670</td>\n",
              "    </tr>\n",
              "    <tr>\n",
              "      <th>2</th>\n",
              "      <td>FRA</td>\n",
              "      <td>2001</td>\n",
              "      <td>3.442096e+04</td>\n",
              "      <td>1602.153341</td>\n",
              "    </tr>\n",
              "    <tr>\n",
              "      <th>3</th>\n",
              "      <td>SWZ</td>\n",
              "      <td>2001</td>\n",
              "      <td>6.734854e+03</td>\n",
              "      <td>44.107808</td>\n",
              "    </tr>\n",
              "    <tr>\n",
              "      <th>4</th>\n",
              "      <td>USA</td>\n",
              "      <td>2001</td>\n",
              "      <td>1.943081e+06</td>\n",
              "      <td>294588.331300</td>\n",
              "    </tr>\n",
              "  </tbody>\n",
              "</table>\n",
              "</div>"
            ],
            "text/plain": [
              "   iso  umd_tree_cover_loss__year  umd_tree_cover_loss__ha  \\\n",
              "0  AUS                       2001             2.188163e+05   \n",
              "1  ESP                       2001             3.281105e+04   \n",
              "2  FRA                       2001             3.442096e+04   \n",
              "3  SWZ                       2001             6.734854e+03   \n",
              "4  USA                       2001             1.943081e+06   \n",
              "\n",
              "   umd_tree_cover_loss_from_fires__ha  \n",
              "0                       154497.154000  \n",
              "1                         7521.445670  \n",
              "2                         1602.153341  \n",
              "3                           44.107808  \n",
              "4                       294588.331300  "
            ]
          },
          "execution_count": 79,
          "metadata": {},
          "output_type": "execute_result"
        }
      ],
      "source": [
        "data = pd.read_csv(\"forestfires.csv\", sep=';',decimal=',')\n",
        "data.head()"
      ]
    },
    {
      "attachments": {},
      "cell_type": "markdown",
      "id": "b31c6e80",
      "metadata": {},
      "source": [
        "On peut ensuite traîter le dataframe comme vu plus haut."
      ]
    },
    {
      "cell_type": "code",
      "execution_count": 80,
      "id": "d5d44116",
      "metadata": {},
      "outputs": [
        {
          "data": {
            "text/html": [
              "<div>\n",
              "<style scoped>\n",
              "    .dataframe tbody tr th:only-of-type {\n",
              "        vertical-align: middle;\n",
              "    }\n",
              "\n",
              "    .dataframe tbody tr th {\n",
              "        vertical-align: top;\n",
              "    }\n",
              "\n",
              "    .dataframe thead th {\n",
              "        text-align: right;\n",
              "    }\n",
              "</style>\n",
              "<table border=\"1\" class=\"dataframe\">\n",
              "  <thead>\n",
              "    <tr style=\"text-align: right;\">\n",
              "      <th></th>\n",
              "      <th>iso</th>\n",
              "      <th>umd_tree_cover_loss__year</th>\n",
              "      <th>umd_tree_cover_loss__ha</th>\n",
              "      <th>umd_tree_cover_loss_from_fires__ha</th>\n",
              "    </tr>\n",
              "  </thead>\n",
              "  <tbody>\n",
              "    <tr>\n",
              "      <th>2</th>\n",
              "      <td>FRA</td>\n",
              "      <td>2001</td>\n",
              "      <td>34420.96339</td>\n",
              "      <td>1602.153341</td>\n",
              "    </tr>\n",
              "    <tr>\n",
              "      <th>7</th>\n",
              "      <td>FRA</td>\n",
              "      <td>2002</td>\n",
              "      <td>33888.39717</td>\n",
              "      <td>1917.373592</td>\n",
              "    </tr>\n",
              "    <tr>\n",
              "      <th>12</th>\n",
              "      <td>FRA</td>\n",
              "      <td>2003</td>\n",
              "      <td>26393.33418</td>\n",
              "      <td>3576.519400</td>\n",
              "    </tr>\n",
              "    <tr>\n",
              "      <th>17</th>\n",
              "      <td>FRA</td>\n",
              "      <td>2004</td>\n",
              "      <td>76134.34456</td>\n",
              "      <td>5940.708768</td>\n",
              "    </tr>\n",
              "    <tr>\n",
              "      <th>22</th>\n",
              "      <td>FRA</td>\n",
              "      <td>2005</td>\n",
              "      <td>46390.59105</td>\n",
              "      <td>1977.720200</td>\n",
              "    </tr>\n",
              "    <tr>\n",
              "      <th>27</th>\n",
              "      <td>FRA</td>\n",
              "      <td>2006</td>\n",
              "      <td>55049.47436</td>\n",
              "      <td>1222.918781</td>\n",
              "    </tr>\n",
              "    <tr>\n",
              "      <th>32</th>\n",
              "      <td>FRA</td>\n",
              "      <td>2007</td>\n",
              "      <td>49246.17317</td>\n",
              "      <td>1193.650199</td>\n",
              "    </tr>\n",
              "    <tr>\n",
              "      <th>37</th>\n",
              "      <td>FRA</td>\n",
              "      <td>2008</td>\n",
              "      <td>86955.39993</td>\n",
              "      <td>1354.842189</td>\n",
              "    </tr>\n",
              "    <tr>\n",
              "      <th>42</th>\n",
              "      <td>FRA</td>\n",
              "      <td>2009</td>\n",
              "      <td>67053.59918</td>\n",
              "      <td>1382.878727</td>\n",
              "    </tr>\n",
              "    <tr>\n",
              "      <th>47</th>\n",
              "      <td>FRA</td>\n",
              "      <td>2010</td>\n",
              "      <td>143265.20960</td>\n",
              "      <td>3041.590746</td>\n",
              "    </tr>\n",
              "    <tr>\n",
              "      <th>52</th>\n",
              "      <td>FRA</td>\n",
              "      <td>2011</td>\n",
              "      <td>64074.31686</td>\n",
              "      <td>1127.449088</td>\n",
              "    </tr>\n",
              "    <tr>\n",
              "      <th>57</th>\n",
              "      <td>FRA</td>\n",
              "      <td>2012</td>\n",
              "      <td>67302.61843</td>\n",
              "      <td>2592.017526</td>\n",
              "    </tr>\n",
              "    <tr>\n",
              "      <th>62</th>\n",
              "      <td>FRA</td>\n",
              "      <td>2013</td>\n",
              "      <td>30351.83693</td>\n",
              "      <td>329.287885</td>\n",
              "    </tr>\n",
              "    <tr>\n",
              "      <th>67</th>\n",
              "      <td>FRA</td>\n",
              "      <td>2014</td>\n",
              "      <td>44359.06366</td>\n",
              "      <td>695.661108</td>\n",
              "    </tr>\n",
              "    <tr>\n",
              "      <th>72</th>\n",
              "      <td>FRA</td>\n",
              "      <td>2015</td>\n",
              "      <td>37292.53033</td>\n",
              "      <td>436.248051</td>\n",
              "    </tr>\n",
              "    <tr>\n",
              "      <th>77</th>\n",
              "      <td>FRA</td>\n",
              "      <td>2016</td>\n",
              "      <td>60768.46951</td>\n",
              "      <td>1980.034439</td>\n",
              "    </tr>\n",
              "    <tr>\n",
              "      <th>82</th>\n",
              "      <td>FRA</td>\n",
              "      <td>2017</td>\n",
              "      <td>69249.04325</td>\n",
              "      <td>5856.670052</td>\n",
              "    </tr>\n",
              "    <tr>\n",
              "      <th>87</th>\n",
              "      <td>FRA</td>\n",
              "      <td>2018</td>\n",
              "      <td>69201.43579</td>\n",
              "      <td>2657.349593</td>\n",
              "    </tr>\n",
              "    <tr>\n",
              "      <th>92</th>\n",
              "      <td>FRA</td>\n",
              "      <td>2019</td>\n",
              "      <td>81304.16864</td>\n",
              "      <td>3297.768365</td>\n",
              "    </tr>\n",
              "    <tr>\n",
              "      <th>97</th>\n",
              "      <td>FRA</td>\n",
              "      <td>2020</td>\n",
              "      <td>77745.73714</td>\n",
              "      <td>2518.470592</td>\n",
              "    </tr>\n",
              "    <tr>\n",
              "      <th>102</th>\n",
              "      <td>FRA</td>\n",
              "      <td>2021</td>\n",
              "      <td>112886.03480</td>\n",
              "      <td>3507.696494</td>\n",
              "    </tr>\n",
              "  </tbody>\n",
              "</table>\n",
              "</div>"
            ],
            "text/plain": [
              "     iso  umd_tree_cover_loss__year  umd_tree_cover_loss__ha  \\\n",
              "2    FRA                       2001              34420.96339   \n",
              "7    FRA                       2002              33888.39717   \n",
              "12   FRA                       2003              26393.33418   \n",
              "17   FRA                       2004              76134.34456   \n",
              "22   FRA                       2005              46390.59105   \n",
              "27   FRA                       2006              55049.47436   \n",
              "32   FRA                       2007              49246.17317   \n",
              "37   FRA                       2008              86955.39993   \n",
              "42   FRA                       2009              67053.59918   \n",
              "47   FRA                       2010             143265.20960   \n",
              "52   FRA                       2011              64074.31686   \n",
              "57   FRA                       2012              67302.61843   \n",
              "62   FRA                       2013              30351.83693   \n",
              "67   FRA                       2014              44359.06366   \n",
              "72   FRA                       2015              37292.53033   \n",
              "77   FRA                       2016              60768.46951   \n",
              "82   FRA                       2017              69249.04325   \n",
              "87   FRA                       2018              69201.43579   \n",
              "92   FRA                       2019              81304.16864   \n",
              "97   FRA                       2020              77745.73714   \n",
              "102  FRA                       2021             112886.03480   \n",
              "\n",
              "     umd_tree_cover_loss_from_fires__ha  \n",
              "2                           1602.153341  \n",
              "7                           1917.373592  \n",
              "12                          3576.519400  \n",
              "17                          5940.708768  \n",
              "22                          1977.720200  \n",
              "27                          1222.918781  \n",
              "32                          1193.650199  \n",
              "37                          1354.842189  \n",
              "42                          1382.878727  \n",
              "47                          3041.590746  \n",
              "52                          1127.449088  \n",
              "57                          2592.017526  \n",
              "62                           329.287885  \n",
              "67                           695.661108  \n",
              "72                           436.248051  \n",
              "77                          1980.034439  \n",
              "82                          5856.670052  \n",
              "87                          2657.349593  \n",
              "92                          3297.768365  \n",
              "97                          2518.470592  \n",
              "102                         3507.696494  "
            ]
          },
          "execution_count": 80,
          "metadata": {},
          "output_type": "execute_result"
        }
      ],
      "source": [
        "data_FRA = data[data[\"iso\"] == \"FRA\"]\n",
        "data_FRA"
      ]
    },
    {
      "cell_type": "code",
      "execution_count": null,
      "id": "6d4b83fd",
      "metadata": {},
      "outputs": [],
      "source": []
    }
  ],
  "metadata": {
    "celltoolbar": "Diaporama",
    "kernelspec": {
      "display_name": "base",
      "language": "python",
      "name": "python3"
    },
    "language_info": {
      "codemirror_mode": {
        "name": "ipython",
        "version": 3
      },
      "file_extension": ".py",
      "mimetype": "text/x-python",
      "name": "python",
      "nbconvert_exporter": "python",
      "pygments_lexer": "ipython3",
      "version": "3.9.13"
    },
    "vscode": {
      "interpreter": {
        "hash": "2843cabd0433704bf9af0eb427e5fac31b8e3c43971b08ae8afc4b2111159d22"
      }
    }
  },
  "nbformat": 4,
  "nbformat_minor": 5
}
