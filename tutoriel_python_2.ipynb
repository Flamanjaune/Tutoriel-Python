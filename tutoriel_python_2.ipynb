{
  "cells": [
    {
      "cell_type": "markdown",
      "id": "e343c928-b5d7-4d44-a242-fdc59aff3fa4",
      "metadata": {
        "trusted": true
      },
      "source": [
        "# 2 Algèbre linéaire"
      ]
    },
    {
      "attachments": {},
      "cell_type": "markdown",
      "id": "18df423d",
      "metadata": {},
      "source": [
        "Python permet aussi de réaliser un grand nombre d’opérations en algèbre linéaire à l'aide du package numpy, il faut donc l'importer."
      ]
    },
    {
      "cell_type": "code",
      "execution_count": 21,
      "id": "e590e35b",
      "metadata": {},
      "outputs": [],
      "source": [
        "import numpy as np"
      ]
    },
    {
      "attachments": {},
      "cell_type": "markdown",
      "id": "1910a73a-b835-433a-aed9-bab20ec279f8",
      "metadata": {
        "trusted": true
      },
      "source": [
        "## 2.1 Vecteurs"
      ]
    },
    {
      "attachments": {},
      "cell_type": "markdown",
      "id": "5431e52d",
      "metadata": {},
      "source": [
        "### 2.1.1 Définition"
      ]
    },
    {
      "attachments": {},
      "cell_type": "markdown",
      "id": "e2efa3cf",
      "metadata": {},
      "source": [
        "Pour créer un vecteur en Python (qui sera par défault un vecteur **ligne**), on utilise ce qui s'appelle un **numpy ndarray**."
      ]
    },
    {
      "cell_type": "code",
      "execution_count": 23,
      "id": "2a542e8b",
      "metadata": {},
      "outputs": [
        {
          "name": "stdout",
          "output_type": "stream",
          "text": [
            "<class 'numpy.ndarray'>\n",
            "[[1 2 3]]\n"
          ]
        }
      ],
      "source": [
        "x = np.array([[1,2,3]])\n",
        "print(type(x))\n",
        "print(x)"
      ]
    },
    {
      "attachments": {},
      "cell_type": "markdown",
      "id": "634b8d21",
      "metadata": {},
      "source": [
        "Ici nous avons assigné le vecteur (1, 2, 3) à la variable x.\n",
        "<br>\n",
        "**Remarque :** Les doubles crochets sont utilisés ici pour voir un vecteur comme une matrice composé d'une seule ligne."
      ]
    },
    {
      "attachments": {},
      "cell_type": "markdown",
      "id": "4bbef45e",
      "metadata": {},
      "source": [
        "Pour obtenir un vecteur **colonne**, on prend la **transposée** d'un vecteur ligne à l'aide de la commande **.T**."
      ]
    },
    {
      "cell_type": "code",
      "execution_count": 24,
      "id": "21d64754",
      "metadata": {},
      "outputs": [
        {
          "data": {
            "text/plain": [
              "array([[1],\n",
              "       [2],\n",
              "       [3]])"
            ]
          },
          "execution_count": 24,
          "metadata": {},
          "output_type": "execute_result"
        }
      ],
      "source": [
        "x = np.array([[1,2,3]])\n",
        "x.T"
      ]
    },
    {
      "attachments": {},
      "cell_type": "markdown",
      "id": "0de4995d",
      "metadata": {},
      "source": [
        "### 2.1.2 Opérations sur les vecteurs"
      ]
    },
    {
      "attachments": {},
      "cell_type": "markdown",
      "id": "6536e0e1",
      "metadata": {},
      "source": [
        "On peut additionner des vecteurs de même longueur entre eux à l'aide de l'opération **+**."
      ]
    },
    {
      "cell_type": "code",
      "execution_count": 25,
      "id": "3761405a",
      "metadata": {},
      "outputs": [
        {
          "data": {
            "text/plain": [
              "array([[5, 7, 9]])"
            ]
          },
          "execution_count": 25,
          "metadata": {},
          "output_type": "execute_result"
        }
      ],
      "source": [
        "x = np.array([[1,2,3]])\n",
        "y = np.array([[4,5,6]])\n",
        "x + y"
      ]
    },
    {
      "attachments": {},
      "cell_type": "markdown",
      "id": "c91b0143",
      "metadata": {},
      "source": [
        "Et multiplier un vecteur par un scalaire à l'aide de l'opération <b>*</b>."
      ]
    },
    {
      "cell_type": "code",
      "execution_count": 26,
      "id": "4f5e0799",
      "metadata": {},
      "outputs": [
        {
          "data": {
            "text/plain": [
              "array([[3, 6, 9]])"
            ]
          },
          "execution_count": 26,
          "metadata": {},
          "output_type": "execute_result"
        }
      ],
      "source": [
        "x = np.array([[1,2,3]])\n",
        "3 * x"
      ]
    },
    {
      "attachments": {},
      "cell_type": "markdown",
      "id": "7fa50d7b-fd85-4bae-a3e6-59e25f870608",
      "metadata": {
        "trusted": true
      },
      "source": [
        "## 2.2 Matrices"
      ]
    },
    {
      "attachments": {},
      "cell_type": "markdown",
      "id": "ab87486d",
      "metadata": {},
      "source": [
        "Python permet d'effectuer un grand nombre d'opérations sur les matrices."
      ]
    },
    {
      "attachments": {},
      "cell_type": "markdown",
      "id": "c4afbac4-1860-4130-8a12-2e5fd17f9190",
      "metadata": {
        "trusted": true
      },
      "source": [
        "### 2.2.1 Définitions"
      ]
    },
    {
      "attachments": {},
      "cell_type": "markdown",
      "id": "cc29ffc6",
      "metadata": {},
      "source": [
        "Par extention à la définition de vecteur vu plus haut, on peut définir une matrice en python.\n",
        "<br>\n",
        "Les éléments d'une ligne sont séparés par des virgules, et les colonnes sont séparés par des crochets."
      ]
    },
    {
      "cell_type": "code",
      "execution_count": 27,
      "id": "449fb38a",
      "metadata": {},
      "outputs": [
        {
          "data": {
            "text/plain": [
              "array([[1, 2, 3],\n",
              "       [4, 5, 6],\n",
              "       [7, 8, 9]])"
            ]
          },
          "execution_count": 27,
          "metadata": {},
          "output_type": "execute_result"
        }
      ],
      "source": [
        "x = np.array([[1,2,3],[4,5,6],[7,8,9]])\n",
        "x"
      ]
    },
    {
      "attachments": {},
      "cell_type": "markdown",
      "id": "861e6d76-880f-42be-a72a-557174f36c5a",
      "metadata": {
        "trusted": true
      },
      "source": [
        "### 2.2.2 Opération sur les matrices"
      ]
    },
    {
      "attachments": {},
      "cell_type": "markdown",
      "id": "049d3a36",
      "metadata": {},
      "source": [
        "Voici les principales opérations que l’on peut effectuer en Python sur les matrices."
      ]
    },
    {
      "attachments": {},
      "cell_type": "markdown",
      "id": "9930d449",
      "metadata": {},
      "source": [
        "**Addition et multiplication par un scalaire**\n",
        "<br>\n",
        "**L’addition** de deux matrices se calcule avec le symbole **+**."
      ]
    },
    {
      "cell_type": "code",
      "execution_count": 28,
      "id": "ae295447",
      "metadata": {},
      "outputs": [
        {
          "data": {
            "text/plain": [
              "array([[ 2,  4,  6],\n",
              "       [ 8, 10, 12],\n",
              "       [14, 16, 18]])"
            ]
          },
          "execution_count": 28,
          "metadata": {},
          "output_type": "execute_result"
        }
      ],
      "source": [
        "A = np.array([[1,2,3],[4,5,6],[7,8,9]])\n",
        "B = np.array([[1,2,3],[4,5,6],[7,8,9]])\n",
        "A + B"
      ]
    },
    {
      "attachments": {},
      "cell_type": "markdown",
      "id": "42e76d05",
      "metadata": {},
      "source": [
        "**la multiplication d’une matrice par un scalaire** se calculent avec le symbole <b>*</b>."
      ]
    },
    {
      "cell_type": "code",
      "execution_count": 29,
      "id": "1ddcbead",
      "metadata": {},
      "outputs": [
        {
          "data": {
            "text/plain": [
              "array([[ 3,  6,  9],\n",
              "       [12, 15, 18],\n",
              "       [21, 24, 27]])"
            ]
          },
          "execution_count": 29,
          "metadata": {},
          "output_type": "execute_result"
        }
      ],
      "source": [
        "A = np.array([[1,2,3],[4,5,6],[7,8,9]])\n",
        "l = 3\n",
        "A * l"
      ]
    },
    {
      "attachments": {},
      "cell_type": "markdown",
      "id": "d1e1b32e",
      "metadata": {},
      "source": [
        "**Multiplication matricielle**\n",
        "<br>\n",
        "**La multiplication matricielle** (lorsque elle est possible) s'effectue avec la commande **matmul()** de numpy."
      ]
    },
    {
      "cell_type": "code",
      "execution_count": 30,
      "id": "d170dcaf",
      "metadata": {},
      "outputs": [
        {
          "data": {
            "text/plain": [
              "array([[ 30,  36,  42],\n",
              "       [ 66,  81,  96],\n",
              "       [102, 126, 150]])"
            ]
          },
          "execution_count": 30,
          "metadata": {},
          "output_type": "execute_result"
        }
      ],
      "source": [
        "A = np.array([[1,2,3],[4,5,6],[7,8,9]])\n",
        "B = np.array([[1,2,3],[4,5,6],[7,8,9]])\n",
        "np.matmul(A,B)"
      ]
    },
    {
      "attachments": {},
      "cell_type": "markdown",
      "id": "c50a7db0",
      "metadata": {},
      "source": [
        "Lorsque la multiplication matricielle est impossible, un message d'erreur apparaît."
      ]
    },
    {
      "cell_type": "code",
      "execution_count": 31,
      "id": "b05f903f",
      "metadata": {},
      "outputs": [
        {
          "ename": "ValueError",
          "evalue": "matmul: Input operand 1 has a mismatch in its core dimension 0, with gufunc signature (n?,k),(k,m?)->(n?,m?) (size 2 is different from 3)",
          "output_type": "error",
          "traceback": [
            "\u001b[0;31m---------------------------------------------------------------------------\u001b[0m",
            "\u001b[0;31mValueError\u001b[0m                                Traceback (most recent call last)",
            "\u001b[0;32m/tmp/ipykernel_739/1376962083.py\u001b[0m in \u001b[0;36m<module>\u001b[0;34m\u001b[0m\n\u001b[1;32m      1\u001b[0m \u001b[0mA\u001b[0m \u001b[0;34m=\u001b[0m \u001b[0mnp\u001b[0m\u001b[0;34m.\u001b[0m\u001b[0marray\u001b[0m\u001b[0;34m(\u001b[0m\u001b[0;34m[\u001b[0m\u001b[0;34m[\u001b[0m\u001b[0;36m1\u001b[0m\u001b[0;34m,\u001b[0m\u001b[0;36m2\u001b[0m\u001b[0;34m,\u001b[0m\u001b[0;36m3\u001b[0m\u001b[0;34m]\u001b[0m\u001b[0;34m,\u001b[0m\u001b[0;34m[\u001b[0m\u001b[0;36m4\u001b[0m\u001b[0;34m,\u001b[0m\u001b[0;36m5\u001b[0m\u001b[0;34m,\u001b[0m\u001b[0;36m6\u001b[0m\u001b[0;34m]\u001b[0m\u001b[0;34m,\u001b[0m\u001b[0;34m[\u001b[0m\u001b[0;36m7\u001b[0m\u001b[0;34m,\u001b[0m\u001b[0;36m8\u001b[0m\u001b[0;34m,\u001b[0m\u001b[0;36m9\u001b[0m\u001b[0;34m]\u001b[0m\u001b[0;34m]\u001b[0m\u001b[0;34m)\u001b[0m\u001b[0;34m\u001b[0m\u001b[0;34m\u001b[0m\u001b[0m\n\u001b[1;32m      2\u001b[0m \u001b[0mB\u001b[0m \u001b[0;34m=\u001b[0m \u001b[0mnp\u001b[0m\u001b[0;34m.\u001b[0m\u001b[0marray\u001b[0m\u001b[0;34m(\u001b[0m\u001b[0;34m[\u001b[0m\u001b[0;34m[\u001b[0m\u001b[0;36m1\u001b[0m\u001b[0;34m,\u001b[0m\u001b[0;36m2\u001b[0m\u001b[0;34m,\u001b[0m\u001b[0;36m3\u001b[0m\u001b[0;34m]\u001b[0m\u001b[0;34m,\u001b[0m\u001b[0;34m[\u001b[0m\u001b[0;36m4\u001b[0m\u001b[0;34m,\u001b[0m\u001b[0;36m5\u001b[0m\u001b[0;34m,\u001b[0m\u001b[0;36m6\u001b[0m\u001b[0;34m]\u001b[0m\u001b[0;34m]\u001b[0m\u001b[0;34m)\u001b[0m\u001b[0;34m\u001b[0m\u001b[0;34m\u001b[0m\u001b[0m\n\u001b[0;32m----> 3\u001b[0;31m \u001b[0mnp\u001b[0m\u001b[0;34m.\u001b[0m\u001b[0mmatmul\u001b[0m\u001b[0;34m(\u001b[0m\u001b[0mA\u001b[0m\u001b[0;34m,\u001b[0m\u001b[0mB\u001b[0m\u001b[0;34m)\u001b[0m\u001b[0;34m\u001b[0m\u001b[0;34m\u001b[0m\u001b[0m\n\u001b[0m",
            "\u001b[0;31mValueError\u001b[0m: matmul: Input operand 1 has a mismatch in its core dimension 0, with gufunc signature (n?,k),(k,m?)->(n?,m?) (size 2 is different from 3)"
          ]
        }
      ],
      "source": [
        "A = np.array([[1,2,3],[4,5,6],[7,8,9]])\n",
        "B = np.array([[1,2,3],[4,5,6]])\n",
        "np.matmul(A,B)"
      ]
    },
    {
      "attachments": {},
      "cell_type": "markdown",
      "id": "2dff6dec",
      "metadata": {},
      "source": [
        "**Attention :** L'opération <b>*</b> multiplie deux matrices **élément par élément**."
      ]
    },
    {
      "cell_type": "code",
      "execution_count": 32,
      "id": "0d27a19b",
      "metadata": {},
      "outputs": [
        {
          "data": {
            "text/plain": [
              "array([[ 1,  4,  9],\n",
              "       [16, 25, 36],\n",
              "       [49, 64, 81]])"
            ]
          },
          "execution_count": 32,
          "metadata": {},
          "output_type": "execute_result"
        }
      ],
      "source": [
        "A = np.array([[1,2,3],[4,5,6],[7,8,9]])\n",
        "B = np.array([[1,2,3],[4,5,6],[7,8,9]])\n",
        "A*B"
      ]
    },
    {
      "attachments": {},
      "cell_type": "markdown",
      "id": "a7c9a7b9",
      "metadata": {},
      "source": [
        "**Puissance d'une matrice**\n",
        "<br>\n",
        "Pour élever **une matrice A à la puissance n**, on utilise la commande **numpy.linalg.matrix_power(A, n)**."
      ]
    },
    {
      "cell_type": "code",
      "execution_count": 33,
      "id": "bfa2933a",
      "metadata": {},
      "outputs": [
        {
          "data": {
            "text/plain": [
              "array([[1069, 1558],\n",
              "       [2337, 3406]])"
            ]
          },
          "execution_count": 33,
          "metadata": {},
          "output_type": "execute_result"
        }
      ],
      "source": [
        "A = np.array([[1,2],[3,4]])\n",
        "np.linalg.matrix_power(A,5)"
      ]
    },
    {
      "attachments": {},
      "cell_type": "markdown",
      "id": "ed6738d3",
      "metadata": {},
      "source": [
        "**Rang d'une matrice**\n",
        "<br>\n",
        "**Le rang** d'une matrice A s'obtient à l'aide de la commande **numpy.linalg.matrix_rank(A)**."
      ]
    },
    {
      "cell_type": "code",
      "execution_count": 34,
      "id": "83481d91",
      "metadata": {},
      "outputs": [
        {
          "data": {
            "text/plain": [
              "2"
            ]
          },
          "execution_count": 34,
          "metadata": {},
          "output_type": "execute_result"
        }
      ],
      "source": [
        "A = np.array([[1,2,3],[4,5,6],[7,8,9]])\n",
        "np.linalg.matrix_rank(A)"
      ]
    },
    {
      "attachments": {},
      "cell_type": "markdown",
      "id": "531acce2",
      "metadata": {},
      "source": [
        "**Matrice transposée**\n",
        "<br>\n",
        "De manière similaire à un vecteur, **la transposée** d'une matrice A s'obtient à l'aide de la commande **A.T**."
      ]
    },
    {
      "cell_type": "code",
      "execution_count": 35,
      "id": "cf75b202",
      "metadata": {},
      "outputs": [
        {
          "data": {
            "text/plain": [
              "array([[1, 4, 7],\n",
              "       [2, 5, 8],\n",
              "       [3, 6, 9]])"
            ]
          },
          "execution_count": 35,
          "metadata": {},
          "output_type": "execute_result"
        }
      ],
      "source": [
        "A = np.array([[1,2,3],[4,5,6],[7,8,9]])\n",
        "A.T"
      ]
    },
    {
      "attachments": {},
      "cell_type": "markdown",
      "id": "5fab3170",
      "metadata": {},
      "source": [
        "**Déterminant**\n",
        "<br>\n",
        "**Le déterminant** d'une matrice A s'obtient à l'aide de la commande **numpy.linalg.det(A)**."
      ]
    },
    {
      "cell_type": "code",
      "execution_count": 36,
      "id": "916ec746",
      "metadata": {},
      "outputs": [
        {
          "data": {
            "text/plain": [
              "6.66133814775094e-16"
            ]
          },
          "execution_count": 36,
          "metadata": {},
          "output_type": "execute_result"
        }
      ],
      "source": [
        "A = np.array([[1,2,3],[4,5,6],[7,8,9]])\n",
        "np.linalg.det(A)"
      ]
    },
    {
      "attachments": {},
      "cell_type": "markdown",
      "id": "4d1cbd24",
      "metadata": {},
      "source": [
        "**Attention :** Ici le déterminant ne donne pas exactement 0 car Python donne **une approximation numérique** du déterminant."
      ]
    },
    {
      "cell_type": "code",
      "execution_count": 37,
      "id": "1f3feb25",
      "metadata": {},
      "outputs": [
        {
          "data": {
            "text/plain": [
              "6.66133814775094e-16"
            ]
          },
          "execution_count": 37,
          "metadata": {},
          "output_type": "execute_result"
        }
      ],
      "source": [
        "B = np.array([[1,2,1],[4,5,6],[7,8,9]])\n",
        "np.linalg.det(A)"
      ]
    },
    {
      "attachments": {},
      "cell_type": "markdown",
      "id": "c7112e26",
      "metadata": {},
      "source": [
        "**Matrice inverse**\n",
        "<br>\n",
        "**L'inverse** d'une matrice A, si elle existe, s'obtient à l'aide de la commande **numpy.linalg.inv(A)**."
      ]
    },
    {
      "cell_type": "code",
      "execution_count": 38,
      "id": "6e834d4b",
      "metadata": {},
      "outputs": [
        {
          "data": {
            "text/plain": [
              "array([[-0.5       , -1.66666667,  1.16666667],\n",
              "       [ 1.        ,  0.33333333, -0.33333333],\n",
              "       [-0.5       ,  1.        , -0.5       ]])"
            ]
          },
          "execution_count": 38,
          "metadata": {},
          "output_type": "execute_result"
        }
      ],
      "source": [
        "A = np.array([[1,2,1],[4,5,6],[7,8,9]])\n",
        "np.linalg.inv(A)"
      ]
    },
    {
      "attachments": {},
      "cell_type": "markdown",
      "id": "c1f82954",
      "metadata": {},
      "source": [
        "On peut vérifier que le produit d'une matrice et de son inverse donne bien la matrice identitié."
      ]
    },
    {
      "cell_type": "code",
      "execution_count": 39,
      "id": "cb3cbe44",
      "metadata": {},
      "outputs": [
        {
          "data": {
            "text/plain": [
              "array([[ 1.00000000e+00, -2.22044605e-16,  5.55111512e-17],\n",
              "       [ 0.00000000e+00,  1.00000000e+00,  4.44089210e-16],\n",
              "       [ 0.00000000e+00,  0.00000000e+00,  1.00000000e+00]])"
            ]
          },
          "execution_count": 39,
          "metadata": {},
          "output_type": "execute_result"
        }
      ],
      "source": [
        "A = np.array([[1,2,1],[4,5,6],[7,8,9]])\n",
        "B = np.linalg.inv(A)\n",
        "np.matmul(A,B)"
      ]
    },
    {
      "attachments": {},
      "cell_type": "markdown",
      "id": "f5523164",
      "metadata": {},
      "source": [
        "**Valeurs et vecteurs propres**\n",
        "<br>\n",
        "**les valeurs et vecteurs propres** d'une matrice à s'obtiennent à l'aide de la commande **numpy.linalg.eig(A)**"
      ]
    },
    {
      "cell_type": "code",
      "execution_count": 40,
      "id": "a3f3a3ec",
      "metadata": {},
      "outputs": [
        {
          "data": {
            "text/plain": [
              "(array([15.28732829+0.j        , -0.14366415+0.60978893j,\n",
              "        -0.14366415-0.60978893j]),\n",
              " array([[-0.13352141+0.j        ,  0.72616402+0.j        ,\n",
              "          0.72616402-0.j        ],\n",
              "        [-0.53752837+0.j        , -0.2665448 +0.4112075j ,\n",
              "         -0.2665448 -0.4112075j ],\n",
              "        [-0.83260752+0.j        , -0.29739816-0.37960823j,\n",
              "         -0.29739816+0.37960823j]]))"
            ]
          },
          "execution_count": 40,
          "metadata": {},
          "output_type": "execute_result"
        }
      ],
      "source": [
        "A = np.array([[1,2,1],[4,5,6],[7,8,9]])\n",
        "np.linalg.eig(A)"
      ]
    },
    {
      "attachments": {},
      "cell_type": "markdown",
      "id": "37491792",
      "metadata": {},
      "source": [
        "Le premier array corresponds aux **vecteurs propres**.\n",
        "<br>\n",
        "Le deuxième array corresponds **aux vecteurs propres**."
      ]
    },
    {
      "attachments": {},
      "cell_type": "markdown",
      "id": "04a6828b",
      "metadata": {},
      "source": [
        "### 2.2.3 Résolution d'un système linéaire\n",
        "La résolution du système linéaire **Ax = b** s'obtient à l'aide de la commande **numpy.linalg.solve(A,b)**."
      ]
    },
    {
      "attachments": {},
      "cell_type": "markdown",
      "id": "d5398d30",
      "metadata": {},
      "source": [
        "Par exemple, la résolution du système :\n",
        "<br>\n",
        "\n",
        "x + 2y = 1\n",
        "<br>\n",
        "3x + 5y = 2\n",
        "<br>\n",
        "\n",
        "s'effectue de la manière suivante :"
      ]
    },
    {
      "cell_type": "code",
      "execution_count": 41,
      "id": "6aa3e5fe",
      "metadata": {},
      "outputs": [
        {
          "data": {
            "text/plain": [
              "array([-1.,  1.])"
            ]
          },
          "execution_count": 41,
          "metadata": {},
          "output_type": "execute_result"
        }
      ],
      "source": [
        "A = np.array([[1, 2], [3, 5]])\n",
        "b = np.array([1, 2])\n",
        "np.linalg.solve(A, b)"
      ]
    },
    {
      "cell_type": "code",
      "execution_count": null,
      "id": "dd136bee",
      "metadata": {},
      "outputs": [],
      "source": []
    }
  ],
  "metadata": {
    "celltoolbar": "Diaporama",
    "kernelspec": {
      "display_name": "base",
      "language": "python",
      "name": "python3"
    },
    "language_info": {
      "codemirror_mode": {
        "name": "ipython",
        "version": 3
      },
      "file_extension": ".py",
      "mimetype": "text/x-python",
      "name": "python",
      "nbconvert_exporter": "python",
      "pygments_lexer": "ipython3",
      "version": "3.9.13"
    },
    "vscode": {
      "interpreter": {
        "hash": "2843cabd0433704bf9af0eb427e5fac31b8e3c43971b08ae8afc4b2111159d22"
      }
    }
  },
  "nbformat": 4,
  "nbformat_minor": 5
}
