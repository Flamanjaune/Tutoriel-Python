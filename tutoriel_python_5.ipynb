{
  "cells": [
    {
      "attachments": {},
      "cell_type": "markdown",
      "id": "cfebed6d-f486-4b29-997c-6d025a8809da",
      "metadata": {
        "trusted": true
      },
      "source": [
        "# 5 Statistiques"
      ]
    },
    {
      "attachments": {},
      "cell_type": "markdown",
      "id": "f8a81b1d-2c4a-4ed0-a91c-33eda54f3549",
      "metadata": {
        "trusted": true
      },
      "source": [
        "## 5.1 Statistiques de centralité et de dispersion"
      ]
    },
    {
      "attachments": {},
      "cell_type": "markdown",
      "id": "97f89b37-5d69-441f-b0f0-47b0183658f9",
      "metadata": {
        "trusted": true
      },
      "source": [
        "### 5.1.1 La moyenne"
      ]
    },
    {
      "attachments": {},
      "cell_type": "markdown",
      "id": "95eba387-6b4a-4b75-a7be-4588341af354",
      "metadata": {
        "trusted": true
      },
      "source": [
        "### 5.1.2 La médiane"
      ]
    },
    {
      "attachments": {},
      "cell_type": "markdown",
      "id": "aad64925-5fbb-4e2d-8f91-13d12eafa6e6",
      "metadata": {
        "trusted": true
      },
      "source": [
        "### 5.1.3 La variance"
      ]
    },
    {
      "attachments": {},
      "cell_type": "markdown",
      "id": "74a0a845-378d-414d-af9e-eb3c7bc691b0",
      "metadata": {
        "trusted": true
      },
      "source": [
        "### 5.1.4 L'écart-type"
      ]
    },
    {
      "attachments": {},
      "cell_type": "markdown",
      "id": "1d833c79-24a6-43b7-a4b9-004ae00d155c",
      "metadata": {
        "trusted": true
      },
      "source": [
        "## 5.2 Plots"
      ]
    },
    {
      "cell_type": "code",
      "execution_count": null,
      "id": "d0dd79ae-8a97-4a26-b85d-36b5f3c646e1",
      "metadata": {
        "trusted": true
      },
      "outputs": [],
      "source": []
    }
  ],
  "metadata": {
    "celltoolbar": "Diaporama",
    "kernelspec": {
      "display_name": "base",
      "language": "python",
      "name": "python3"
    },
    "language_info": {
      "codemirror_mode": {
        "name": "ipython",
        "version": 3
      },
      "file_extension": ".py",
      "mimetype": "text/x-python",
      "name": "python",
      "nbconvert_exporter": "python",
      "pygments_lexer": "ipython3",
      "version": "3.9.13"
    },
    "vscode": {
      "interpreter": {
        "hash": "db0ef503f3b3bc96dfa4828735313adad9360d8a669442473ca3479003025d54"
      }
    }
  },
  "nbformat": 4,
  "nbformat_minor": 5
}
