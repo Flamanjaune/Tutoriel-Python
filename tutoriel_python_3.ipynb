{
  "cells": [
    {
      "attachments": {},
      "cell_type": "markdown",
      "id": "b8a32dfc-f154-47e0-bad5-7a42f6d042a2",
      "metadata": {
        "trusted": true
      },
      "source": [
        "# 3 Structures de contrôle et fonctions"
      ]
    },
    {
      "attachments": {},
      "cell_type": "markdown",
      "id": "03d42865-6573-4f9a-aa53-52033cd85522",
      "metadata": {
        "trusted": true
      },
      "source": [
        "## 3.1 Les commandes if, elif et else"
      ]
    },
    {
      "attachments": {},
      "cell_type": "markdown",
      "id": "2fe554a0",
      "metadata": {},
      "source": [
        "### 3.1.1 La commande if"
      ]
    },
    {
      "attachments": {},
      "cell_type": "markdown",
      "id": "cd2e5be2",
      "metadata": {},
      "source": [
        "La commande **if** sert à exécuter une commande si une certaine condition est vérifiée.\n",
        "<br>\n",
        "En Python, on met le symbole **:** après la condition puis on fait un retour à la ligne avec **une indentation** (touche **Tab**).\n"
      ]
    },
    {
      "cell_type": "code",
      "execution_count": 1,
      "id": "6f45ef78",
      "metadata": {},
      "outputs": [
        {
          "name": "stdout",
          "output_type": "stream",
          "text": [
            "x est égal à 5\n"
          ]
        }
      ],
      "source": [
        "x = 5\n",
        "if x == 5:\n",
        "    print(\"x est égal à 5\")"
      ]
    },
    {
      "cell_type": "code",
      "execution_count": 2,
      "id": "840836b9",
      "metadata": {},
      "outputs": [],
      "source": [
        "y = 4\n",
        "if y == 5:\n",
        "    print(\"x est égal à 5\")"
      ]
    },
    {
      "attachments": {},
      "cell_type": "markdown",
      "id": "f86758a5",
      "metadata": {},
      "source": [
        "Le deuxième exemple ne retourne rien en output, car la condition n’est pas\n",
        "vérifiée."
      ]
    },
    {
      "attachments": {},
      "cell_type": "markdown",
      "id": "6695caed",
      "metadata": {},
      "source": [
        "### 3.1.2 La commande if ... else"
      ]
    },
    {
      "attachments": {},
      "cell_type": "markdown",
      "id": "c5894ce3",
      "metadata": {},
      "source": [
        "La commande **if ... else** sert à définir ce que le programme doit retourner lorsque la condition n’est pas satisfaite.\n",
        "<br>\n",
        "Le **else** se place à la même auteur que le **if** et on utilise à nouveau le symbole **:** et une indentation."
      ]
    },
    {
      "cell_type": "code",
      "execution_count": 3,
      "id": "fd7ddb65",
      "metadata": {},
      "outputs": [
        {
          "name": "stdout",
          "output_type": "stream",
          "text": [
            "x est égal à 5\n"
          ]
        }
      ],
      "source": [
        "x = 5\n",
        "if x == 5:\n",
        "    print(\"x est égal à 5\")\n",
        "else:\n",
        "    print(\"x n'est pas égal à 5\")"
      ]
    },
    {
      "cell_type": "code",
      "execution_count": 4,
      "id": "488b853c",
      "metadata": {},
      "outputs": [
        {
          "name": "stdout",
          "output_type": "stream",
          "text": [
            "x n'est pas égal à 5\n"
          ]
        }
      ],
      "source": [
        "y = 4\n",
        "if y == 5:\n",
        "    print(\"x est égal à 5\")\n",
        "else:\n",
        "    print(\"x n'est pas égal à 5\")"
      ]
    },
    {
      "attachments": {},
      "cell_type": "markdown",
      "id": "97ada759",
      "metadata": {},
      "source": [
        "### 3.1.3 La commande if ... elif ... else"
      ]
    },
    {
      "attachments": {},
      "cell_type": "markdown",
      "id": "5613c8c6",
      "metadata": {},
      "source": [
        "Il est possible d’imbriquer des conditions à l’aide de la commande **elif** (else if), en gardant la même structure."
      ]
    },
    {
      "cell_type": "code",
      "execution_count": 5,
      "id": "be6280d1",
      "metadata": {},
      "outputs": [
        {
          "name": "stdout",
          "output_type": "stream",
          "text": [
            "x est égal à 5\n"
          ]
        }
      ],
      "source": [
        "x = 5\n",
        "if x == 5:\n",
        "    print(\"x est égal à 5\")\n",
        "elif x ==4:\n",
        "    print(\"x est égal à 4\")\n",
        "else:\n",
        "    print(\"x n'est ni égal à 5, ni égal à 4\")"
      ]
    },
    {
      "cell_type": "code",
      "execution_count": 6,
      "id": "a69ee797",
      "metadata": {},
      "outputs": [
        {
          "name": "stdout",
          "output_type": "stream",
          "text": [
            "x est égal à 4\n"
          ]
        }
      ],
      "source": [
        "y = 4\n",
        "if y == 5:\n",
        "    print(\"x est égal à 5\")\n",
        "elif y ==4:\n",
        "    print(\"x est égal à 4\")\n",
        "else:\n",
        "    print(\"x n'est ni égal à 5, ni égal à 4\")"
      ]
    },
    {
      "cell_type": "code",
      "execution_count": 7,
      "id": "1c6c04a7",
      "metadata": {},
      "outputs": [
        {
          "name": "stdout",
          "output_type": "stream",
          "text": [
            "x n'est ni égal à 5, ni égal à 4\n"
          ]
        }
      ],
      "source": [
        "z = 3\n",
        "if z == 5:\n",
        "    print(\"x est égal à 5\")\n",
        "elif z ==4:\n",
        "    print(\"x est égal à 4\")\n",
        "else:\n",
        "    print(\"x n'est ni égal à 5, ni égal à 4\")"
      ]
    },
    {
      "attachments": {},
      "cell_type": "markdown",
      "id": "1d37c1aa-a24c-4574-9e90-fcdc32e6ad81",
      "metadata": {
        "trusted": true
      },
      "source": [
        "## 3.2 Boucle for"
      ]
    },
    {
      "attachments": {},
      "cell_type": "markdown",
      "id": "ea6300f3",
      "metadata": {},
      "source": [
        "Une boucle **for** suit la structure **for ... condition: + indentation**.\n",
        "<br>\n",
        "Cette commande permet d’exécuter une action sur tous les éléments d’une liste. \n",
        "<br>\n",
        "On appelle cette opération **une itération**."
      ]
    },
    {
      "cell_type": "code",
      "execution_count": null,
      "id": "d5b155a1",
      "metadata": {},
      "outputs": [],
      "source": []
    },
    {
      "attachments": {},
      "cell_type": "markdown",
      "id": "30143d3f-0724-4137-bccc-4af47a94b103",
      "metadata": {
        "trusted": true
      },
      "source": [
        "## 3.3 Boucle while"
      ]
    },
    {
      "attachments": {},
      "cell_type": "markdown",
      "id": "57cfea19-0e4b-47fa-bbaf-3311d1c45205",
      "metadata": {
        "trusted": true
      },
      "source": [
        "# 3.4 Fonctions"
      ]
    }
  ],
  "metadata": {
    "celltoolbar": "Diaporama",
    "kernelspec": {
      "display_name": "base",
      "language": "python",
      "name": "python3"
    },
    "language_info": {
      "codemirror_mode": {
        "name": "ipython",
        "version": 3
      },
      "file_extension": ".py",
      "mimetype": "text/x-python",
      "name": "python",
      "nbconvert_exporter": "python",
      "pygments_lexer": "ipython3",
      "version": "3.9.13"
    },
    "vscode": {
      "interpreter": {
        "hash": "2843cabd0433704bf9af0eb427e5fac31b8e3c43971b08ae8afc4b2111159d22"
      }
    }
  },
  "nbformat": 4,
  "nbformat_minor": 5
}
