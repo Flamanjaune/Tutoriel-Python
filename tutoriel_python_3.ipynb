{
  "cells": [
    {
      "attachments": {},
      "cell_type": "markdown",
      "id": "b8a32dfc-f154-47e0-bad5-7a42f6d042a2",
      "metadata": {
        "trusted": true
      },
      "source": [
        "# 3 Structures de contrôle et fonctions"
      ]
    },
    {
      "attachments": {},
      "cell_type": "markdown",
      "id": "03d42865-6573-4f9a-aa53-52033cd85522",
      "metadata": {
        "trusted": true
      },
      "source": [
        "## 3.1 Les commandes if, elif et else"
      ]
    },
    {
      "attachments": {},
      "cell_type": "markdown",
      "id": "2fe554a0",
      "metadata": {},
      "source": [
        "### 3.1.1 La commande if"
      ]
    },
    {
      "attachments": {},
      "cell_type": "markdown",
      "id": "cd2e5be2",
      "metadata": {},
      "source": [
        "La commande **if** sert à exécuter une commande si une certaine condition est vérifiée.\n",
        "<br>\n",
        "En Python, on met le symbole **:** après la condition puis on fait un retour à la ligne avec **une indentation** (touche **Tab**).\n"
      ]
    },
    {
      "cell_type": "code",
      "execution_count": 1,
      "id": "6f45ef78",
      "metadata": {},
      "outputs": [
        {
          "name": "stdout",
          "output_type": "stream",
          "text": [
            "x est égal à 5\n"
          ]
        }
      ],
      "source": [
        "x = 5\n",
        "if x == 5:\n",
        "    print(\"x est égal à 5\")"
      ]
    },
    {
      "cell_type": "code",
      "execution_count": 2,
      "id": "840836b9",
      "metadata": {},
      "outputs": [],
      "source": [
        "y = 4\n",
        "if y == 5:\n",
        "    print(\"x est égal à 5\")"
      ]
    },
    {
      "attachments": {},
      "cell_type": "markdown",
      "id": "f86758a5",
      "metadata": {},
      "source": [
        "Le deuxième exemple ne retourne rien en output, car la condition n’est pas\n",
        "vérifiée."
      ]
    },
    {
      "attachments": {},
      "cell_type": "markdown",
      "id": "6695caed",
      "metadata": {},
      "source": [
        "### 3.1.2 La commande if ... else"
      ]
    },
    {
      "attachments": {},
      "cell_type": "markdown",
      "id": "c5894ce3",
      "metadata": {},
      "source": [
        "La commande **if ... else** sert à définir ce que le programme doit retourner lorsque la condition n’est pas satisfaite.\n",
        "<br>\n",
        "Le **else** se place à la même auteur que le **if** et on utilise à nouveau le symbole **:** et une indentation."
      ]
    },
    {
      "cell_type": "code",
      "execution_count": 3,
      "id": "fd7ddb65",
      "metadata": {},
      "outputs": [
        {
          "name": "stdout",
          "output_type": "stream",
          "text": [
            "x est égal à 5\n"
          ]
        }
      ],
      "source": [
        "x = 5\n",
        "if x == 5:\n",
        "    print(\"x est égal à 5\")\n",
        "else:\n",
        "    print(\"x n'est pas égal à 5\")"
      ]
    },
    {
      "cell_type": "code",
      "execution_count": 4,
      "id": "488b853c",
      "metadata": {},
      "outputs": [
        {
          "name": "stdout",
          "output_type": "stream",
          "text": [
            "x n'est pas égal à 5\n"
          ]
        }
      ],
      "source": [
        "y = 4\n",
        "if y == 5:\n",
        "    print(\"x est égal à 5\")\n",
        "else:\n",
        "    print(\"x n'est pas égal à 5\")"
      ]
    },
    {
      "attachments": {},
      "cell_type": "markdown",
      "id": "97ada759",
      "metadata": {},
      "source": [
        "### 3.1.3 La commande if ... elif ... else"
      ]
    },
    {
      "attachments": {},
      "cell_type": "markdown",
      "id": "5613c8c6",
      "metadata": {},
      "source": [
        "Il est possible d’imbriquer des conditions à l’aide de la commande **elif** (else if), en gardant la même structure."
      ]
    },
    {
      "cell_type": "code",
      "execution_count": 5,
      "id": "be6280d1",
      "metadata": {},
      "outputs": [
        {
          "name": "stdout",
          "output_type": "stream",
          "text": [
            "x est égal à 5\n"
          ]
        }
      ],
      "source": [
        "x = 5\n",
        "if x == 5:\n",
        "    print(\"x est égal à 5\")\n",
        "elif x ==4:\n",
        "    print(\"x est égal à 4\")\n",
        "else:\n",
        "    print(\"x n'est ni égal à 5, ni égal à 4\")"
      ]
    },
    {
      "cell_type": "code",
      "execution_count": 6,
      "id": "a69ee797",
      "metadata": {},
      "outputs": [
        {
          "name": "stdout",
          "output_type": "stream",
          "text": [
            "x est égal à 4\n"
          ]
        }
      ],
      "source": [
        "y = 4\n",
        "if y == 5:\n",
        "    print(\"x est égal à 5\")\n",
        "elif y ==4:\n",
        "    print(\"x est égal à 4\")\n",
        "else:\n",
        "    print(\"x n'est ni égal à 5, ni égal à 4\")"
      ]
    },
    {
      "cell_type": "code",
      "execution_count": 7,
      "id": "1c6c04a7",
      "metadata": {},
      "outputs": [
        {
          "name": "stdout",
          "output_type": "stream",
          "text": [
            "x n'est ni égal à 5, ni égal à 4\n"
          ]
        }
      ],
      "source": [
        "z = 3\n",
        "if z == 5:\n",
        "    print(\"x est égal à 5\")\n",
        "elif z ==4:\n",
        "    print(\"x est égal à 4\")\n",
        "else:\n",
        "    print(\"x n'est ni égal à 5, ni égal à 4\")"
      ]
    },
    {
      "attachments": {},
      "cell_type": "markdown",
      "id": "1d37c1aa-a24c-4574-9e90-fcdc32e6ad81",
      "metadata": {
        "trusted": true
      },
      "source": [
        "## 3.2 Boucle for"
      ]
    },
    {
      "attachments": {},
      "cell_type": "markdown",
      "id": "ea6300f3",
      "metadata": {},
      "source": [
        "Une boucle **for** suit la structure **for ... condition: + indentation**.\n",
        "<br>\n",
        "Cette commande permet d’exécuter une action sur tous les éléments d’une liste.\n",
        "<br>\n",
        "On appelle cette opération **une itération**."
      ]
    },
    {
      "cell_type": "code",
      "execution_count": 1,
      "id": "d5b155a1",
      "metadata": {},
      "outputs": [
        {
          "name": "stdout",
          "output_type": "stream",
          "text": [
            "1\n",
            "2\n",
            "3\n",
            "4\n",
            "5\n"
          ]
        }
      ],
      "source": [
        "for i in [1,2,3,4,5]:\n",
        "    print(i)"
      ]
    },
    {
      "attachments": {},
      "cell_type": "markdown",
      "id": "580cac82",
      "metadata": {},
      "source": [
        "Une boucle for peut aussi s'effectuer sur une liste contenant des caractères."
      ]
    },
    {
      "cell_type": "code",
      "execution_count": 2,
      "id": "b3b4a39b",
      "metadata": {},
      "outputs": [
        {
          "name": "stdout",
          "output_type": "stream",
          "text": [
            "vert\n",
            "bleu\n",
            "rouge\n"
          ]
        }
      ],
      "source": [
        "for c in [\"vert\", \"bleu\", \"rouge\"]:\n",
        "    print(c)"
      ]
    },
    {
      "attachments": {},
      "cell_type": "markdown",
      "id": "c1ad87da",
      "metadata": {},
      "source": [
        "### 3.2.1 La commande range().\n",
        "<br>\n",
        "La commande <b>range(n)</b> retourne une liste contenant les entiers de 0 à n, n non compris."
      ]
    },
    {
      "cell_type": "code",
      "execution_count": 3,
      "id": "4cbea0be",
      "metadata": {},
      "outputs": [
        {
          "data": {
            "text/plain": [
              "range(0, 10)"
            ]
          },
          "execution_count": 3,
          "metadata": {},
          "output_type": "execute_result"
        }
      ],
      "source": [
        "range(10)"
      ]
    },
    {
      "attachments": {},
      "cell_type": "markdown",
      "id": "965d65e9",
      "metadata": {},
      "source": [
        "Cette commande est particulièrement utile pour lées boucles for."
      ]
    },
    {
      "cell_type": "code",
      "execution_count": 4,
      "id": "d7e049d3",
      "metadata": {},
      "outputs": [
        {
          "name": "stdout",
          "output_type": "stream",
          "text": [
            "0\n",
            "1\n",
            "2\n",
            "3\n",
            "4\n",
            "5\n",
            "6\n",
            "7\n",
            "8\n",
            "9\n"
          ]
        }
      ],
      "source": [
        "for i in range(10):\n",
        "    print(i)"
      ]
    },
    {
      "attachments": {},
      "cell_type": "markdown",
      "id": "30143d3f-0724-4137-bccc-4af47a94b103",
      "metadata": {
        "trusted": true
      },
      "source": [
        "## 3.3 Boucle while"
      ]
    },
    {
      "attachments": {},
      "cell_type": "markdown",
      "id": "6a5aef49",
      "metadata": {},
      "source": [
        "Une boucle **while** suit la structure **while...condition: + indentation**.\n",
        "<br>\n",
        "Cette boucle s'execute tant que la condition est vraie."
      ]
    },
    {
      "cell_type": "code",
      "execution_count": 5,
      "id": "85fcf9b1",
      "metadata": {},
      "outputs": [
        {
          "name": "stdout",
          "output_type": "stream",
          "text": [
            "1\n",
            "2\n",
            "3\n",
            "4\n"
          ]
        }
      ],
      "source": [
        "i = 1\n",
        "while i < 5:\n",
        "    print(i)\n",
        "    i = i + 1"
      ]
    },
    {
      "attachments": {},
      "cell_type": "markdown",
      "id": "79e4d36b",
      "metadata": {},
      "source": [
        "**Attention :** Si la condition est toujours vrai, Python entre dans ce qui s'appelle **une boucle infinie**.\n",
        "<br>\n",
        "Dans ce cas, il faut arrêter manuellement l'execution du programme."
      ]
    },
    {
      "attachments": {},
      "cell_type": "markdown",
      "id": "57cfea19-0e4b-47fa-bbaf-3311d1c45205",
      "metadata": {
        "trusted": true
      },
      "source": [
        "# 3.4 Fonctions"
      ]
    },
    {
      "attachments": {},
      "cell_type": "markdown",
      "id": "e15beb3d",
      "metadata": {},
      "source": [
        "**Les fonctions** sont des objets très utiles en programmation.\n",
        "<br>\n",
        "Elles permettent d’exécuter une série de commandes en une seule action. \n",
        "<br>\n",
        "Une fonction prend certains arguments (entre parenthèse) et retourne un certain résultat à l'aide de la commande **return**. \n",
        "<br>\n",
        "Par exemple, pour créer la fonction **f(x) = 3x** en Python, on procède ainsi :"
      ]
    },
    {
      "cell_type": "code",
      "execution_count": 6,
      "id": "1b9bef6e",
      "metadata": {},
      "outputs": [],
      "source": [
        "def function(x):\n",
        "    return 3*x"
      ]
    },
    {
      "attachments": {},
      "cell_type": "markdown",
      "id": "19c8bb3b",
      "metadata": {},
      "source": [
        "On peut maintenant tester notre fonction en l'appellant par son nom et en remplaçant x par la valeur souhaitée."
      ]
    },
    {
      "cell_type": "code",
      "execution_count": 7,
      "id": "9c4c0770",
      "metadata": {},
      "outputs": [
        {
          "data": {
            "text/plain": [
              "15"
            ]
          },
          "execution_count": 7,
          "metadata": {},
          "output_type": "execute_result"
        }
      ],
      "source": [
        "function(5)"
      ]
    }
  ],
  "metadata": {
    "celltoolbar": "Diaporama",
    "kernelspec": {
      "display_name": "base",
      "language": "python",
      "name": "python3"
    },
    "language_info": {
      "codemirror_mode": {
        "name": "ipython",
        "version": 3
      },
      "file_extension": ".py",
      "mimetype": "text/x-python",
      "name": "python",
      "nbconvert_exporter": "python",
      "pygments_lexer": "ipython3",
      "version": "3.9.13"
    },
    "vscode": {
      "interpreter": {
        "hash": "2843cabd0433704bf9af0eb427e5fac31b8e3c43971b08ae8afc4b2111159d22"
      }
    }
  },
  "nbformat": 4,
  "nbformat_minor": 5
}
