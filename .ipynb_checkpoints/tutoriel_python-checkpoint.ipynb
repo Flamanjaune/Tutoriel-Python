{
 "cells": [
  {
   "cell_type": "markdown",
   "id": "d6890688-90c4-405e-a292-2e0780707913",
   "metadata": {
    "tags": []
   },
   "source": [
    "# 1 Premiers pas"
   ]
  },
  {
   "cell_type": "markdown",
   "id": "ae205df0-6634-413f-9eee-9cbe59023072",
   "metadata": {},
   "source": [
    "## 1.1 Python comme calculatrice"
   ]
  },
  {
   "cell_type": "markdown",
   "id": "775f5585-ed41-4466-a50a-8a7d0756f01e",
   "metadata": {},
   "source": [
    "Python peut être utilisée comme calculatrice. Par exemple, essayez de taper 2 + 2 dans la cellule ci dessous.\n",
    "<br>\n",
    "Appuyez ensuite sur le petit triangle du menu ou sur la combinaison de touches **Shift + Enter** pour effectuer l’opération."
   ]
  },
  {
   "cell_type": "code",
   "execution_count": 1,
   "id": "a3dabd92-c13b-459e-9b67-7335e3864d11",
   "metadata": {},
   "outputs": [
    {
     "data": {
      "text/plain": [
       "4"
      ]
     },
     "execution_count": 1,
     "metadata": {},
     "output_type": "execute_result"
    }
   ],
   "source": [
    "2+2"
   ]
  },
  {
   "cell_type": "markdown",
   "id": "867c4bf2-7daa-42b2-b0fc-52cb93875303",
   "metadata": {},
   "source": [
    "La ligne nouvellement apparue s’appelle **un output** et donne le résultat de ce qui est exécuté par la console."
   ]
  },
  {
   "cell_type": "markdown",
   "id": "d5fa8373-dbda-45f3-b763-3f7f5400ca33",
   "metadata": {},
   "source": [
    "### 1.1.1 Opérateurs arithmétique\n",
    "Les opérations mathématiques de base sont les suivantes :"
   ]
  },
  {
   "cell_type": "markdown",
   "id": "2e5d1784-7502-41eb-a3db-178896e72d01",
   "metadata": {},
   "source": [
    "**L'addition** $+$ et **la soustraction** $-$ :"
   ]
  },
  {
   "cell_type": "code",
   "execution_count": 2,
   "id": "9f35f679-27f1-476e-aa84-c3629ad3280a",
   "metadata": {},
   "outputs": [
    {
     "data": {
      "text/plain": [
       "7"
      ]
     },
     "execution_count": 2,
     "metadata": {},
     "output_type": "execute_result"
    }
   ],
   "source": [
    "2+5"
   ]
  },
  {
   "cell_type": "code",
   "execution_count": 3,
   "id": "ca83427d-eeeb-4826-8a81-6c9c9a8fa86f",
   "metadata": {},
   "outputs": [
    {
     "data": {
      "text/plain": [
       "1"
      ]
     },
     "execution_count": 3,
     "metadata": {},
     "output_type": "execute_result"
    }
   ],
   "source": [
    "4-3"
   ]
  },
  {
   "cell_type": "markdown",
   "id": "dc8afa59-afb9-43be-a6f7-058db5ea1214",
   "metadata": {},
   "source": [
    "**La multiplication** $*$ et **la division** $/$ :"
   ]
  },
  {
   "cell_type": "code",
   "execution_count": 4,
   "id": "7788cf51-f83a-405b-97f3-48f8a8584b5a",
   "metadata": {},
   "outputs": [
    {
     "data": {
      "text/plain": [
       "6"
      ]
     },
     "execution_count": 4,
     "metadata": {},
     "output_type": "execute_result"
    }
   ],
   "source": [
    "2*3"
   ]
  },
  {
   "cell_type": "code",
   "execution_count": 5,
   "id": "0d58c80a-4348-41f8-b3fc-6c6c2aad1886",
   "metadata": {},
   "outputs": [
    {
     "data": {
      "text/plain": [
       "5.0"
      ]
     },
     "execution_count": 5,
     "metadata": {},
     "output_type": "execute_result"
    }
   ],
   "source": [
    "10/2"
   ]
  },
  {
   "cell_type": "markdown",
   "id": "90600a44-25d7-4f5b-919b-5c15d3946b98",
   "metadata": {},
   "source": [
    "**Le modulo** $\\%$ :"
   ]
  },
  {
   "cell_type": "code",
   "execution_count": 18,
   "id": "6da57ae9-d114-4f77-96f3-77967dac948e",
   "metadata": {},
   "outputs": [
    {
     "data": {
      "text/plain": [
       "2"
      ]
     },
     "execution_count": 18,
     "metadata": {},
     "output_type": "execute_result"
    }
   ],
   "source": [
    "10%4"
   ]
  },
  {
   "cell_type": "markdown",
   "id": "4e88232c-f1e1-42c5-85e6-acb51c44864f",
   "metadata": {},
   "source": [
    "**La puissance** $**$ :"
   ]
  },
  {
   "cell_type": "code",
   "execution_count": 15,
   "id": "40f12330-5332-4f27-87f3-bb64a6f2bbbc",
   "metadata": {},
   "outputs": [
    {
     "data": {
      "text/plain": [
       "8.0"
      ]
     },
     "execution_count": 15,
     "metadata": {},
     "output_type": "execute_result"
    }
   ],
   "source": [
    "64**(1/2)"
   ]
  },
  {
   "cell_type": "markdown",
   "id": "1506bc4b-654b-4329-b440-af89e6d7f44a",
   "metadata": {},
   "source": [
    "**La division entière** $//$ :"
   ]
  },
  {
   "cell_type": "code",
   "execution_count": 19,
   "id": "b73c9af1-f039-488a-871f-91d49f4d45d9",
   "metadata": {},
   "outputs": [
    {
     "data": {
      "text/plain": [
       "3"
      ]
     },
     "execution_count": 19,
     "metadata": {},
     "output_type": "execute_result"
    }
   ],
   "source": [
    "10//3"
   ]
  },
  {
   "cell_type": "markdown",
   "id": "d8503a12-0f99-4e24-931f-e5a54c7de435",
   "metadata": {},
   "source": [
    "**Remarque :** Beaucoup d’autres fonctions (exponentielle, logarithme, fonctions trigonomé-\n",
    "triques, ...) sont également disponibles. Nous en verrons certaines plus tard."
   ]
  },
  {
   "cell_type": "markdown",
   "id": "64ef1043-783e-4c74-bbd8-e9f4316d70b0",
   "metadata": {},
   "source": [
    "### 1.1.2 Opérateurs relationnels\n",
    "Les opérateurs relationnels sont utilisés pour comparer des valeurs entre elles. L’output d’une telle opération s’appelle **un booléen** il est soit *vrai*, soit *faux*.\n",
    "<br>\n",
    "Les principaux opérateurs relationnels sont les suivants :"
   ]
  },
  {
   "cell_type": "markdown",
   "id": "c6ab34d3-9026-4247-9320-24a21be3b8a9",
   "metadata": {},
   "source": [
    "**Les inégalités strictes** $<$ et $>$ :"
   ]
  },
  {
   "cell_type": "code",
   "execution_count": 26,
   "id": "c0675d63-8788-4185-a699-a1e6c4c70f84",
   "metadata": {},
   "outputs": [
    {
     "data": {
      "text/plain": [
       "False"
      ]
     },
     "execution_count": 26,
     "metadata": {},
     "output_type": "execute_result"
    }
   ],
   "source": [
    "2>3"
   ]
  },
  {
   "cell_type": "code",
   "execution_count": 23,
   "id": "7c9a3883-82b1-4992-a155-94ae295e589d",
   "metadata": {},
   "outputs": [
    {
     "data": {
      "text/plain": [
       "False"
      ]
     },
     "execution_count": 23,
     "metadata": {},
     "output_type": "execute_result"
    }
   ],
   "source": [
    "2>2"
   ]
  },
  {
   "cell_type": "markdown",
   "id": "0b45041b-46a4-4b30-9f92-3a9b481c5ae0",
   "metadata": {},
   "source": [
    "**Les inégalités larges** $<=$ et $>=$ :"
   ]
  },
  {
   "cell_type": "code",
   "execution_count": 22,
   "id": "39397422-3a95-4052-acba-4fc7f9879279",
   "metadata": {},
   "outputs": [
    {
     "data": {
      "text/plain": [
       "True"
      ]
     },
     "execution_count": 22,
     "metadata": {},
     "output_type": "execute_result"
    }
   ],
   "source": [
    "2<=2"
   ]
  },
  {
   "cell_type": "markdown",
   "id": "0f8971d5-400f-4ad8-a644-76b478d14e3b",
   "metadata": {},
   "source": [
    "**Égal à** $==$ et **n’est pas égal à** $!=$ :"
   ]
  },
  {
   "cell_type": "code",
   "execution_count": 24,
   "id": "31370bee-fa3b-4083-8fdb-a6c786a48883",
   "metadata": {},
   "outputs": [
    {
     "data": {
      "text/plain": [
       "True"
      ]
     },
     "execution_count": 24,
     "metadata": {},
     "output_type": "execute_result"
    }
   ],
   "source": [
    "2 == 2"
   ]
  },
  {
   "cell_type": "code",
   "execution_count": 25,
   "id": "10ec45a4-26e6-485c-8cbc-eeb4b18ac6c9",
   "metadata": {},
   "outputs": [
    {
     "data": {
      "text/plain": [
       "False"
      ]
     },
     "execution_count": 25,
     "metadata": {},
     "output_type": "execute_result"
    }
   ],
   "source": [
    "2!=2"
   ]
  },
  {
   "cell_type": "markdown",
   "id": "8d920994-1c8f-4259-b426-4e15914c60e7",
   "metadata": {},
   "source": [
    "**Attention**, le signe $=$ doit être doublé pour ne pas être confondu avec un\n",
    "assignement de variable (que nous verrons plus tard)."
   ]
  },
  {
   "cell_type": "markdown",
   "id": "28c9cf97-202c-4d21-9b04-d533e534dc0b",
   "metadata": {},
   "source": [
    "### 1.1.3 Opérateurs logiques\n",
    "Les opérateurs logiques servent à comparer des booléens entre eux. \n",
    "<br>\n",
    "Lesprincipaux opérateurs logiques sont :"
   ]
  },
  {
   "cell_type": "markdown",
   "id": "57d74b5c-ad67-404e-9c2c-f5fd7d06f0ab",
   "metadata": {},
   "source": [
    "**Le ET logique** $\\&$ :\n",
    "<br>\n",
    "Cet opérateur suit la table de vérité suivante\n",
    "\n",
    "|X|Y|ET|\n",
    "|------|------|------|\n",
    "|Vrai     |Vrai     |Vrai     |\n",
    "|Vrai     |Faux     |Faux     |\n",
    "|Faux     |Vrai     |Faux     |\n",
    "|Faux     |Faux     |Faux     |"
   ]
  },
  {
   "cell_type": "code",
   "execution_count": 33,
   "id": "ddb85e40-3b2a-4b1c-a69f-a677e3733825",
   "metadata": {},
   "outputs": [
    {
     "data": {
      "text/plain": [
       "False"
      ]
     },
     "execution_count": 33,
     "metadata": {},
     "output_type": "execute_result"
    }
   ],
   "source": [
    "(4>3) & (3>6)"
   ]
  },
  {
   "cell_type": "markdown",
   "id": "e053eb2d-d042-4334-b365-d897c271c0e4",
   "metadata": {},
   "source": [
    "**Le OU logique** $|$ :\n",
    "<br>\n",
    "Cet opérateur suit la table de vérité suivante\n",
    "\n",
    "|X|Y|OU|\n",
    "|------|------|------|\n",
    "|Vrai     |Vrai     |Vrai     |\n",
    "|Vrai     |Faux     |Vrai     |\n",
    "|Faux     |Vrai     |Vrai     |\n",
    "|Faux     |Faux     |Faux     |"
   ]
  },
  {
   "cell_type": "code",
   "execution_count": 35,
   "id": "39cd91b5-cd3b-443b-a87b-488fe7a87cc8",
   "metadata": {},
   "outputs": [
    {
     "data": {
      "text/plain": [
       "True"
      ]
     },
     "execution_count": 35,
     "metadata": {},
     "output_type": "execute_result"
    }
   ],
   "source": [
    "(4>3) | (3>6) "
   ]
  },
  {
   "cell_type": "markdown",
   "id": "fb47952d-2f75-49b5-8250-904f3611da94",
   "metadata": {},
   "source": [
    "**Le NE...PAS logique** **not()** :\n",
    "<br>\n",
    "Cet opérateur suit la table de vérité suivante\n",
    "\n",
    "|X|NE ... PAS|\n",
    "|------|------|\n",
    "|Vrai     |Faux     |\n",
    "|Faux     |Vrai     |"
   ]
  },
  {
   "cell_type": "code",
   "execution_count": 45,
   "id": "e5545bde-fb89-45a5-bd08-42e7bad8956f",
   "metadata": {},
   "outputs": [
    {
     "data": {
      "text/plain": [
       "False"
      ]
     },
     "execution_count": 45,
     "metadata": {},
     "output_type": "execute_result"
    }
   ],
   "source": [
    "not(3>2)"
   ]
  },
  {
   "cell_type": "markdown",
   "id": "2dee3337-3404-4152-aff6-8274792a37a7",
   "metadata": {},
   "source": [
    "## 1.2 Packages\n",
    "Les packages sont des outils très important en Python qui permettent d'avoir des fonctionnalités supplémentaires.\n",
    "<br>\n",
    "Pour utiliser un package, il faut d'abord l'importer avec **import** ou **import ... as ...**."
   ]
  },
  {
   "cell_type": "code",
   "execution_count": 52,
   "id": "77e30b18-5533-421c-9464-bf0dea65ab83",
   "metadata": {},
   "outputs": [],
   "source": [
    "import numpy as np"
   ]
  },
  {
   "cell_type": "markdown",
   "id": "15262884-4818-421e-b69b-6a14cb1aa3b5",
   "metadata": {},
   "source": [
    "Le package peut ensuite être utiliser à l'aide de son nom ou du nom qu'on lui a attribué."
   ]
  },
  {
   "cell_type": "code",
   "execution_count": 53,
   "id": "6bbdd61d-8d3b-4dac-898a-b2ee490f14dd",
   "metadata": {},
   "outputs": [
    {
     "data": {
      "text/plain": [
       "8.0"
      ]
     },
     "execution_count": 53,
     "metadata": {},
     "output_type": "execute_result"
    }
   ],
   "source": [
    "np.sqrt(64)"
   ]
  },
  {
   "cell_type": "code",
   "execution_count": 55,
   "id": "c340a58d-f9c0-4316-be9e-f37b4d14424f",
   "metadata": {},
   "outputs": [
    {
     "data": {
      "text/plain": [
       "-1.0"
      ]
     },
     "execution_count": 55,
     "metadata": {},
     "output_type": "execute_result"
    }
   ],
   "source": [
    "np.cos(np.pi)"
   ]
  },
  {
   "cell_type": "markdown",
   "id": "afd20d73-9c5b-4080-87e4-76b8648eaa09",
   "metadata": {},
   "source": [
    "## 1.3 Variables\n",
    "En programmation, une variable sert à stocker une information. \n",
    "<br>\n",
    "En Python, une variable se définit en utilisant la commande $=$. \n",
    "<br>\n",
    "Par exemple, pour stocker la valeur $5$ dans la variable $x$, on procède de la manière suivante."
   ]
  },
  {
   "cell_type": "code",
   "execution_count": 57,
   "id": "726cebf6-73d9-47e8-b5e6-493b9cf3ec83",
   "metadata": {},
   "outputs": [],
   "source": [
    "x = 5"
   ]
  },
  {
   "cell_type": "code",
   "execution_count": 59,
   "id": "cae3dba9-efa3-4edd-9cd4-551fb7948957",
   "metadata": {},
   "outputs": [
    {
     "data": {
      "text/plain": [
       "8"
      ]
     },
     "execution_count": 59,
     "metadata": {},
     "output_type": "execute_result"
    }
   ],
   "source": [
    "x + 3 "
   ]
  },
  {
   "cell_type": "code",
   "execution_count": 60,
   "id": "1e1573c4-b934-47e4-a753-3a3b9e682cbe",
   "metadata": {},
   "outputs": [],
   "source": [
    "x = True"
   ]
  },
  {
   "cell_type": "code",
   "execution_count": 62,
   "id": "270b4b26-edc9-40d5-980c-201f9373fb23",
   "metadata": {},
   "outputs": [
    {
     "data": {
      "text/plain": [
       "False"
      ]
     },
     "execution_count": 62,
     "metadata": {},
     "output_type": "execute_result"
    }
   ],
   "source": [
    "x & False"
   ]
  },
  {
   "cell_type": "markdown",
   "id": "d561fdbf-d3de-4dc7-9bd6-85f5aaef9f13",
   "metadata": {},
   "source": [
    "On dit qu’on **assigne** la valeur $5$ à la variable $x$. \n",
    "<br>\n",
    "On peut ensuite utiliser la variable $x$ dans les opérations présentées au point $1.1$."
   ]
  },
  {
   "cell_type": "code",
   "execution_count": null,
   "id": "fb4f9d2e-2c93-4dfb-ae42-f43d8a03035a",
   "metadata": {},
   "outputs": [],
   "source": []
  },
  {
   "cell_type": "markdown",
   "id": "8efa2891-adbe-46ea-b4e7-bb839f7e3602",
   "metadata": {},
   "source": [
    "Nous verrons dans la suite de ce cours que les variables sont extrêmement utiles pour stocker toutes sortes d’objets (valeurs, vecteurs, data frames, ...)."
   ]
  },
  {
   "cell_type": "markdown",
   "id": "b049a5fd-a40f-4ed9-b701-0829381d2da3",
   "metadata": {},
   "source": [
    "## 1.4 Types de données"
   ]
  },
  {
   "cell_type": "markdown",
   "id": "217dc15f-769f-4bbc-87d5-3ec40a817d36",
   "metadata": {},
   "source": [
    "Une variable ne sert donc pas uniquement à stocker des valeurs. \n",
    "<br>\n",
    "Une grande variété de types de données peut être stockée dans une variable,\n",
    "en voici les principales. "
   ]
  },
  {
   "cell_type": "markdown",
   "id": "7bb6555b-4475-4c40-a88f-5ebf46e71fa4",
   "metadata": {},
   "source": [
    "**Numériques (float) :** \n",
    "<br>\n",
    "C’est le type de tous les nombres réels (éléments de l’ensemble $\\mathbb{R}$).\n",
    "<br>\n",
    "On peut définir une variable numérique en utilisant la commande **float()**."
   ]
  },
  {
   "cell_type": "code",
   "execution_count": null,
   "id": "a7bf053d-271a-49cb-acff-2d5a573c2b9b",
   "metadata": {},
   "outputs": [],
   "source": []
  },
  {
   "cell_type": "markdown",
   "id": "6e4c5188-1807-4b58-b424-bd98309bc7be",
   "metadata": {},
   "source": [
    "**Entières (int):**\n",
    "<br>\n",
    "Il est parfois utile en programmation de travailler avec des entiers (éléments\n",
    "de l’ensemble $\\mathbb{N}$).\n",
    "<br>\n",
    "On peut définir une variable entière en utilisant la commande **int()**."
   ]
  },
  {
   "cell_type": "code",
   "execution_count": null,
   "id": "234bfe83-3f91-4d7a-8ced-b90a643727c9",
   "metadata": {},
   "outputs": [],
   "source": []
  },
  {
   "cell_type": "markdown",
   "id": "eb6d1d10-5913-4086-bff1-859da7dc1f07",
   "metadata": {},
   "source": [
    "**Complexes (complex) :**\n",
    "<br>\n",
    "C’est le type des nombres complexes (éléments de l’ensemble $\\mathbb{C}$).\n",
    "<br>\n",
    "Un nombre complex $x=a+ib$ se définit avec la commande **complex(a,b)**.\n",
    "<br>\n",
    "On peut définir une variable complexe en utilisant la commande **complex()**."
   ]
  },
  {
   "cell_type": "code",
   "execution_count": null,
   "id": "bbe94346-c651-4893-8105-7a2ee99fc932",
   "metadata": {},
   "outputs": [],
   "source": []
  },
  {
   "cell_type": "markdown",
   "id": "990bee6c-dc22-48c1-86de-1c83b802a137",
   "metadata": {},
   "source": [
    "Pour connaître le type d’une variable, on utilise la commande **type()**."
   ]
  },
  {
   "cell_type": "code",
   "execution_count": null,
   "id": "9eab4860-6d96-4524-8414-bcdaf4339003",
   "metadata": {},
   "outputs": [],
   "source": []
  },
  {
   "cell_type": "markdown",
   "id": "87e75f3a-0908-4afe-b62f-5c23400fca43",
   "metadata": {},
   "source": [
    "**Caractères (str) :**\n",
    "<br>\n",
    "C’est le type de tout ce qui est littéral. \n",
    "<br>\n",
    "Pour faire comprendre à Python que l’on travaille avec une expression littérale et non une variable, on utilise les\n",
    "guillemets \"...\".\n",
    "<br>\n",
    "On peut définir une variable littérale à l'aide de la commande **str()**."
   ]
  },
  {
   "cell_type": "code",
   "execution_count": null,
   "id": "9936d76a-035c-48fa-a42c-398596c47e33",
   "metadata": {},
   "outputs": [],
   "source": []
  },
  {
   "cell_type": "markdown",
   "id": "0c5e7c8f-6ae5-4bf6-8f1b-af553a5079b4",
   "metadata": {},
   "source": [
    "**Logiques :**\n",
    "<br>\n",
    "C’est le type des opérateurs logiques vus précédemment."
   ]
  },
  {
   "cell_type": "code",
   "execution_count": null,
   "id": "7b8e9894-f324-44f9-8be1-404bccccadda",
   "metadata": {},
   "outputs": [],
   "source": []
  },
  {
   "cell_type": "markdown",
   "id": "a47041db-a5d9-46cc-98a1-185bfe822d79",
   "metadata": {},
   "source": [
    "## 1.5 Commentaires"
   ]
  },
  {
   "cell_type": "markdown",
   "id": "f04930c8-a75e-4af8-bf19-5e63ac9f5dc1",
   "metadata": {},
   "source": [
    "La commande $\\#$ permet de commenter notre code, c’est à dire ajouter\n",
    "du texte pour décrire ce que le code fait. \n",
    "<br>\n",
    "Ce texte ne sera pas compilé."
   ]
  },
  {
   "cell_type": "code",
   "execution_count": null,
   "id": "6b8622cd-d376-4085-a205-d5f8ab2fa034",
   "metadata": {},
   "outputs": [],
   "source": []
  },
  {
   "cell_type": "markdown",
   "id": "45145c59-9396-46f4-b19e-2e97b29a183b",
   "metadata": {},
   "source": [
    "## 1.6 Aide"
   ]
  },
  {
   "cell_type": "markdown",
   "id": "ff92e3db-c6ca-4ed7-acbd-adcdedba6711",
   "metadata": {},
   "source": [
    "Pour obtenir de l’aide à propos d’une commande en Pyton, vous pouvez\n",
    "utilisez la commande **help()**."
   ]
  },
  {
   "cell_type": "code",
   "execution_count": null,
   "id": "755dc147-792e-4549-99b3-6655523270ff",
   "metadata": {},
   "outputs": [],
   "source": []
  },
  {
   "cell_type": "markdown",
   "id": "e343c928-b5d7-4d44-a242-fdc59aff3fa4",
   "metadata": {},
   "source": [
    "# 2 Algèbre linéaire"
   ]
  },
  {
   "cell_type": "markdown",
   "id": "1910a73a-b835-433a-aed9-bab20ec279f8",
   "metadata": {},
   "source": [
    "## Vecteurs"
   ]
  },
  {
   "cell_type": "markdown",
   "id": "7fa50d7b-fd85-4bae-a3e6-59e25f870608",
   "metadata": {},
   "source": [
    "## Matrices"
   ]
  },
  {
   "cell_type": "markdown",
   "id": "c4afbac4-1860-4130-8a12-2e5fd17f9190",
   "metadata": {},
   "source": [
    "### Définitions"
   ]
  },
  {
   "cell_type": "markdown",
   "id": "34bbb3d0-23dd-4612-b514-7263f688c8fd",
   "metadata": {},
   "source": [
    "### Accéder à un élément"
   ]
  },
  {
   "cell_type": "markdown",
   "id": "861e6d76-880f-42be-a72a-557174f36c5a",
   "metadata": {},
   "source": [
    "### Opération sur les matrices"
   ]
  },
  {
   "cell_type": "markdown",
   "id": "74e84350-9490-42f6-ba07-247b9f70dba6",
   "metadata": {},
   "source": [
    "### Matrices comme outil de modélisation"
   ]
  },
  {
   "cell_type": "markdown",
   "id": "b8a32dfc-f154-47e0-bad5-7a42f6d042a2",
   "metadata": {},
   "source": [
    "# Structures de contrôle"
   ]
  },
  {
   "cell_type": "markdown",
   "id": "03d42865-6573-4f9a-aa53-52033cd85522",
   "metadata": {},
   "source": [
    "## If ... else ..."
   ]
  },
  {
   "cell_type": "markdown",
   "id": "1d37c1aa-a24c-4574-9e90-fcdc32e6ad81",
   "metadata": {},
   "source": [
    "## Boucle for"
   ]
  },
  {
   "cell_type": "markdown",
   "id": "30143d3f-0724-4137-bccc-4af47a94b103",
   "metadata": {},
   "source": [
    "## Boucle while"
   ]
  },
  {
   "cell_type": "markdown",
   "id": "57cfea19-0e4b-47fa-bbaf-3311d1c45205",
   "metadata": {},
   "source": [
    "# Fonctions"
   ]
  },
  {
   "cell_type": "markdown",
   "id": "18c36e12-36fd-4837-b1a8-b1ddf0e9b65c",
   "metadata": {},
   "source": [
    "# Listes et Data frames"
   ]
  },
  {
   "cell_type": "markdown",
   "id": "9ef60717-9e46-4f96-bd01-fd813bac2590",
   "metadata": {},
   "source": [
    "## Listes"
   ]
  },
  {
   "cell_type": "markdown",
   "id": "d949ba79-f56c-4afc-a1ad-e55cf41c4f54",
   "metadata": {},
   "source": [
    "## Data frames"
   ]
  },
  {
   "cell_type": "markdown",
   "id": "6b412ec2-698b-47ac-820b-c126cb247417",
   "metadata": {},
   "source": [
    "### Créer un Data frame"
   ]
  },
  {
   "cell_type": "markdown",
   "id": "c72ccad9-b913-492e-80ce-9d8d61872546",
   "metadata": {},
   "source": [
    "### Manipuler un Data frame"
   ]
  },
  {
   "cell_type": "markdown",
   "id": "2840d96f-a110-410d-837a-dcff32141d84",
   "metadata": {},
   "source": [
    "### Importer un fichier excel en Data Frame"
   ]
  },
  {
   "cell_type": "markdown",
   "id": "64e0ea5b-e2b2-4838-bbaa-4fa7817d50d4",
   "metadata": {},
   "source": [
    "### Sets de données intégrés"
   ]
  },
  {
   "cell_type": "markdown",
   "id": "cfebed6d-f486-4b29-997c-6d025a8809da",
   "metadata": {},
   "source": [
    "# Statistiques"
   ]
  },
  {
   "cell_type": "markdown",
   "id": "f8a81b1d-2c4a-4ed0-a91c-33eda54f3549",
   "metadata": {},
   "source": [
    "## Statistiques de centralité et de dispersion"
   ]
  },
  {
   "cell_type": "markdown",
   "id": "97f89b37-5d69-441f-b0f0-47b0183658f9",
   "metadata": {},
   "source": [
    "### La moyenne"
   ]
  },
  {
   "cell_type": "markdown",
   "id": "95eba387-6b4a-4b75-a7be-4588341af354",
   "metadata": {},
   "source": [
    "### La médiane"
   ]
  },
  {
   "cell_type": "markdown",
   "id": "aad64925-5fbb-4e2d-8f91-13d12eafa6e6",
   "metadata": {},
   "source": [
    "### La variance"
   ]
  },
  {
   "cell_type": "markdown",
   "id": "74a0a845-378d-414d-af9e-eb3c7bc691b0",
   "metadata": {},
   "source": [
    "### L'écart-type"
   ]
  },
  {
   "cell_type": "markdown",
   "id": "1d833c79-24a6-43b7-a4b9-004ae00d155c",
   "metadata": {},
   "source": [
    "## Plots"
   ]
  },
  {
   "cell_type": "code",
   "execution_count": null,
   "id": "d0dd79ae-8a97-4a26-b85d-36b5f3c646e1",
   "metadata": {},
   "outputs": [],
   "source": []
  }
 ],
 "metadata": {
  "kernelspec": {
   "display_name": "Python 3 (ipykernel)",
   "language": "python",
   "name": "python3"
  },
  "language_info": {
   "codemirror_mode": {
    "name": "ipython",
    "version": 3
   },
   "file_extension": ".py",
   "mimetype": "text/x-python",
   "name": "python",
   "nbconvert_exporter": "python",
   "pygments_lexer": "ipython3",
   "version": "3.9.13"
  }
 },
 "nbformat": 4,
 "nbformat_minor": 5
}
