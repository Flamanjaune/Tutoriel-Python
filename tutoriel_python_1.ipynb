{
 "cells": [
  {
   "cell_type": "markdown",
   "id": "d6890688-90c4-405e-a292-2e0780707913",
   "metadata": {
    "slideshow": {
     "slide_type": "slide"
    },
    "tags": []
   },
   "source": [
    "# 1 Premiers pas"
   ]
  },
  {
   "cell_type": "markdown",
   "id": "ae205df0-6634-413f-9eee-9cbe59023072",
   "metadata": {
    "slideshow": {
     "slide_type": "subslide"
    }
   },
   "source": [
    "## 1.1 Python comme calculatrice"
   ]
  },
  {
   "cell_type": "markdown",
   "id": "775f5585-ed41-4466-a50a-8a7d0756f01e",
   "metadata": {
    "slideshow": {
     "slide_type": "subslide"
    }
   },
   "source": [
    "Python peut être utilisée comme calculatrice. Par exemple, essayez de taper 2 + 2 dans la cellule ci dessous.\n",
    "<br>\n",
    "Appuyez ensuite sur le petit triangle du menu ou sur la combinaison de touches **Shift + Enter** pour effectuer l’opération."
   ]
  },
  {
   "cell_type": "code",
   "execution_count": 2,
   "id": "a3dabd92-c13b-459e-9b67-7335e3864d11",
   "metadata": {},
   "outputs": [
    {
     "data": {
      "text/plain": [
       "4"
      ]
     },
     "execution_count": 2,
     "metadata": {},
     "output_type": "execute_result"
    }
   ],
   "source": [
    "2 + 2"
   ]
  },
  {
   "cell_type": "markdown",
   "id": "867c4bf2-7daa-42b2-b0fc-52cb93875303",
   "metadata": {},
   "source": [
    "La ligne nouvellement apparue s’appelle **un output** et donne le résultat de ce qui est exécuté par la console."
   ]
  },
  {
   "cell_type": "markdown",
   "id": "d5fa8373-dbda-45f3-b763-3f7f5400ca33",
   "metadata": {},
   "source": [
    "### 1.1.1 Opérateurs arithmétique\n",
    "Les opérations mathématiques de base sont les suivantes :"
   ]
  },
  {
   "attachments": {},
   "cell_type": "markdown",
   "id": "2e5d1784-7502-41eb-a3db-178896e72d01",
   "metadata": {},
   "source": [
    "**L'addition** $+$ et **la soustraction** $-$"
   ]
  },
  {
   "cell_type": "code",
   "execution_count": 3,
   "id": "9f35f679-27f1-476e-aa84-c3629ad3280a",
   "metadata": {},
   "outputs": [
    {
     "data": {
      "text/plain": [
       "7"
      ]
     },
     "execution_count": 3,
     "metadata": {},
     "output_type": "execute_result"
    }
   ],
   "source": [
    "2 + 5"
   ]
  },
  {
   "cell_type": "code",
   "execution_count": 4,
   "id": "ca83427d-eeeb-4826-8a81-6c9c9a8fa86f",
   "metadata": {},
   "outputs": [
    {
     "data": {
      "text/plain": [
       "1"
      ]
     },
     "execution_count": 4,
     "metadata": {},
     "output_type": "execute_result"
    }
   ],
   "source": [
    "4 - 3"
   ]
  },
  {
   "attachments": {},
   "cell_type": "markdown",
   "id": "dc8afa59-afb9-43be-a6f7-058db5ea1214",
   "metadata": {},
   "source": [
    "**La multiplication** $*$ et **la division** $/$"
   ]
  },
  {
   "cell_type": "code",
   "execution_count": 5,
   "id": "7788cf51-f83a-405b-97f3-48f8a8584b5a",
   "metadata": {},
   "outputs": [
    {
     "data": {
      "text/plain": [
       "6"
      ]
     },
     "execution_count": 5,
     "metadata": {},
     "output_type": "execute_result"
    }
   ],
   "source": [
    "2 * 3"
   ]
  },
  {
   "cell_type": "code",
   "execution_count": 6,
   "id": "0d58c80a-4348-41f8-b3fc-6c6c2aad1886",
   "metadata": {},
   "outputs": [
    {
     "data": {
      "text/plain": [
       "5.0"
      ]
     },
     "execution_count": 6,
     "metadata": {},
     "output_type": "execute_result"
    }
   ],
   "source": [
    "10 / 2"
   ]
  },
  {
   "attachments": {},
   "cell_type": "markdown",
   "id": "90600a44-25d7-4f5b-919b-5c15d3946b98",
   "metadata": {},
   "source": [
    "**Le modulo** $\\%$"
   ]
  },
  {
   "cell_type": "code",
   "execution_count": 7,
   "id": "6da57ae9-d114-4f77-96f3-77967dac948e",
   "metadata": {},
   "outputs": [
    {
     "data": {
      "text/plain": [
       "2"
      ]
     },
     "execution_count": 7,
     "metadata": {},
     "output_type": "execute_result"
    }
   ],
   "source": [
    "10 % 4"
   ]
  },
  {
   "attachments": {},
   "cell_type": "markdown",
   "id": "4e88232c-f1e1-42c5-85e6-acb51c44864f",
   "metadata": {},
   "source": [
    "**La puissance** $**$"
   ]
  },
  {
   "cell_type": "code",
   "execution_count": 8,
   "id": "40f12330-5332-4f27-87f3-bb64a6f2bbbc",
   "metadata": {},
   "outputs": [
    {
     "data": {
      "text/plain": [
       "8.0"
      ]
     },
     "execution_count": 8,
     "metadata": {},
     "output_type": "execute_result"
    }
   ],
   "source": [
    "64 ** (1 / 2)"
   ]
  },
  {
   "attachments": {},
   "cell_type": "markdown",
   "id": "1506bc4b-654b-4329-b440-af89e6d7f44a",
   "metadata": {},
   "source": [
    "**La division entière** $//$"
   ]
  },
  {
   "cell_type": "code",
   "execution_count": 9,
   "id": "b73c9af1-f039-488a-871f-91d49f4d45d9",
   "metadata": {},
   "outputs": [
    {
     "data": {
      "text/plain": [
       "3"
      ]
     },
     "execution_count": 9,
     "metadata": {},
     "output_type": "execute_result"
    }
   ],
   "source": [
    "10 // 3"
   ]
  },
  {
   "attachments": {},
   "cell_type": "markdown",
   "id": "d8503a12-0f99-4e24-931f-e5a54c7de435",
   "metadata": {},
   "source": [
    "**Remarque :** Beaucoup d’autres fonctions (exponentielle, logarithme, fonctions trigonométriques, ...) sont également disponibles."
   ]
  },
  {
   "cell_type": "markdown",
   "id": "64ef1043-783e-4c74-bbd8-e9f4316d70b0",
   "metadata": {},
   "source": [
    "### 1.1.2 Opérateurs relationnels\n",
    "Les opérateurs relationnels sont utilisés pour comparer des valeurs entre elles. L’output d’une telle opération s’appelle **un booléen** il est soit *vrai*, soit *faux*.\n",
    "<br>\n",
    "Les principaux opérateurs relationnels sont les suivants :"
   ]
  },
  {
   "attachments": {},
   "cell_type": "markdown",
   "id": "c6ab34d3-9026-4247-9320-24a21be3b8a9",
   "metadata": {},
   "source": [
    "**Les inégalités strictes** $<$ et $>$"
   ]
  },
  {
   "cell_type": "code",
   "execution_count": 10,
   "id": "c0675d63-8788-4185-a699-a1e6c4c70f84",
   "metadata": {},
   "outputs": [
    {
     "data": {
      "text/plain": [
       "False"
      ]
     },
     "execution_count": 10,
     "metadata": {},
     "output_type": "execute_result"
    }
   ],
   "source": [
    "2 > 3"
   ]
  },
  {
   "cell_type": "code",
   "execution_count": 11,
   "id": "7c9a3883-82b1-4992-a155-94ae295e589d",
   "metadata": {},
   "outputs": [
    {
     "data": {
      "text/plain": [
       "False"
      ]
     },
     "execution_count": 11,
     "metadata": {},
     "output_type": "execute_result"
    }
   ],
   "source": [
    "2 > 2"
   ]
  },
  {
   "attachments": {},
   "cell_type": "markdown",
   "id": "0b45041b-46a4-4b30-9f92-3a9b481c5ae0",
   "metadata": {},
   "source": [
    "**Les inégalités larges** $<=$ et $>=$"
   ]
  },
  {
   "cell_type": "code",
   "execution_count": 12,
   "id": "39397422-3a95-4052-acba-4fc7f9879279",
   "metadata": {},
   "outputs": [
    {
     "data": {
      "text/plain": [
       "True"
      ]
     },
     "execution_count": 12,
     "metadata": {},
     "output_type": "execute_result"
    }
   ],
   "source": [
    "2 <= 2"
   ]
  },
  {
   "attachments": {},
   "cell_type": "markdown",
   "id": "0f8971d5-400f-4ad8-a644-76b478d14e3b",
   "metadata": {},
   "source": [
    "**Égal à** $==$ et **n’est pas égal à** $!=$"
   ]
  },
  {
   "cell_type": "code",
   "execution_count": 13,
   "id": "31370bee-fa3b-4083-8fdb-a6c786a48883",
   "metadata": {},
   "outputs": [
    {
     "data": {
      "text/plain": [
       "True"
      ]
     },
     "execution_count": 13,
     "metadata": {},
     "output_type": "execute_result"
    }
   ],
   "source": [
    "2 == 2"
   ]
  },
  {
   "cell_type": "code",
   "execution_count": 14,
   "id": "10ec45a4-26e6-485c-8cbc-eeb4b18ac6c9",
   "metadata": {},
   "outputs": [
    {
     "data": {
      "text/plain": [
       "False"
      ]
     },
     "execution_count": 14,
     "metadata": {},
     "output_type": "execute_result"
    }
   ],
   "source": [
    "2 != 2"
   ]
  },
  {
   "cell_type": "markdown",
   "id": "8d920994-1c8f-4259-b426-4e15914c60e7",
   "metadata": {},
   "source": [
    "**Attention**, le signe $=$ doit être doublé pour ne pas être confondu avec un\n",
    "assignement de variable (que nous verrons plus tard)."
   ]
  },
  {
   "cell_type": "markdown",
   "id": "28c9cf97-202c-4d21-9b04-d533e534dc0b",
   "metadata": {},
   "source": [
    "### 1.1.3 Opérateurs logiques\n",
    "Les opérateurs logiques servent à comparer des booléens entre eux. \n",
    "<br>\n",
    "Lesprincipaux opérateurs logiques sont :"
   ]
  },
  {
   "attachments": {},
   "cell_type": "markdown",
   "id": "57d74b5c-ad67-404e-9c2c-f5fd7d06f0ab",
   "metadata": {},
   "source": [
    "**Le ET logique** $\\&$\n",
    "<br>\n",
    "Cet opérateur suit la table de vérité suivante\n",
    "\n",
    "|X|Y|ET|\n",
    "|------|------|------|\n",
    "|Vrai     |Vrai     |Vrai     |\n",
    "|Vrai     |Faux     |Faux     |\n",
    "|Faux     |Vrai     |Faux     |\n",
    "|Faux     |Faux     |Faux     |"
   ]
  },
  {
   "cell_type": "code",
   "execution_count": 15,
   "id": "ddb85e40-3b2a-4b1c-a69f-a677e3733825",
   "metadata": {},
   "outputs": [
    {
     "data": {
      "text/plain": [
       "False"
      ]
     },
     "execution_count": 15,
     "metadata": {},
     "output_type": "execute_result"
    }
   ],
   "source": [
    "(4 > 3) & (3 > 6)"
   ]
  },
  {
   "attachments": {},
   "cell_type": "markdown",
   "id": "e053eb2d-d042-4334-b365-d897c271c0e4",
   "metadata": {},
   "source": [
    "**Le OU logique** $|$\n",
    "<br>\n",
    "Cet opérateur suit la table de vérité suivante\n",
    "\n",
    "|X|Y|OU|\n",
    "|------|------|------|\n",
    "|Vrai     |Vrai     |Vrai     |\n",
    "|Vrai     |Faux     |Vrai     |\n",
    "|Faux     |Vrai     |Vrai     |\n",
    "|Faux     |Faux     |Faux     |"
   ]
  },
  {
   "cell_type": "code",
   "execution_count": 16,
   "id": "39cd91b5-cd3b-443b-a87b-488fe7a87cc8",
   "metadata": {},
   "outputs": [
    {
     "data": {
      "text/plain": [
       "True"
      ]
     },
     "execution_count": 16,
     "metadata": {},
     "output_type": "execute_result"
    }
   ],
   "source": [
    "(4 > 3) | (3 > 6) "
   ]
  },
  {
   "attachments": {},
   "cell_type": "markdown",
   "id": "fb47952d-2f75-49b5-8250-904f3611da94",
   "metadata": {},
   "source": [
    "**Le NE...PAS logique** **not()**\n",
    "<br>\n",
    "Cet opérateur suit la table de vérité suivante\n",
    "\n",
    "|X|NE ... PAS|\n",
    "|------|------|\n",
    "|Vrai     |Faux     |\n",
    "|Faux     |Vrai     |"
   ]
  },
  {
   "cell_type": "code",
   "execution_count": 17,
   "id": "e5545bde-fb89-45a5-bd08-42e7bad8956f",
   "metadata": {},
   "outputs": [
    {
     "data": {
      "text/plain": [
       "False"
      ]
     },
     "execution_count": 17,
     "metadata": {},
     "output_type": "execute_result"
    }
   ],
   "source": [
    "not(3 > 2)"
   ]
  },
  {
   "cell_type": "markdown",
   "id": "2dee3337-3404-4152-aff6-8274792a37a7",
   "metadata": {},
   "source": [
    "## 1.2 Packages\n",
    "Les packages sont des outils très important en Python qui permettent d'avoir des fonctionnalités supplémentaires.\n",
    "<br>\n",
    "Pour utiliser un package, il faut d'abord l'importer avec **import** ou **import ... as ...**."
   ]
  },
  {
   "cell_type": "code",
   "execution_count": 18,
   "id": "77e30b18-5533-421c-9464-bf0dea65ab83",
   "metadata": {},
   "outputs": [],
   "source": [
    "import numpy as np"
   ]
  },
  {
   "cell_type": "markdown",
   "id": "15262884-4818-421e-b69b-6a14cb1aa3b5",
   "metadata": {},
   "source": [
    "Le package peut ensuite être utiliser à l'aide de son nom ou du nom qu'on lui a attribué."
   ]
  },
  {
   "cell_type": "code",
   "execution_count": 19,
   "id": "6bbdd61d-8d3b-4dac-898a-b2ee490f14dd",
   "metadata": {},
   "outputs": [
    {
     "data": {
      "text/plain": [
       "8.0"
      ]
     },
     "execution_count": 19,
     "metadata": {},
     "output_type": "execute_result"
    }
   ],
   "source": [
    "np.sqrt(64)"
   ]
  },
  {
   "cell_type": "code",
   "execution_count": 20,
   "id": "c340a58d-f9c0-4316-be9e-f37b4d14424f",
   "metadata": {},
   "outputs": [
    {
     "data": {
      "text/plain": [
       "-1.0"
      ]
     },
     "execution_count": 20,
     "metadata": {},
     "output_type": "execute_result"
    }
   ],
   "source": [
    "np.cos(np.pi)"
   ]
  },
  {
   "cell_type": "markdown",
   "id": "4b833d5c-fbaf-42ee-a988-afb29e3525e1",
   "metadata": {},
   "source": [
    "## 1.3 La fonction print()\n",
    "La fonction **print()** est très utile et sert à afficher des outputs à l'écran.\n",
    "<br>\n",
    "Sans l'utilisation de la fonction print(), seul le dernier output entré dans une cellule est affiché à l'écran."
   ]
  },
  {
   "cell_type": "code",
   "execution_count": 21,
   "id": "5e62d245-c27f-420e-bc40-33dd8c8dac85",
   "metadata": {},
   "outputs": [
    {
     "data": {
      "text/plain": [
       "9"
      ]
     },
     "execution_count": 21,
     "metadata": {},
     "output_type": "execute_result"
    }
   ],
   "source": [
    "3 + 2\n",
    "4 + 5"
   ]
  },
  {
   "cell_type": "markdown",
   "id": "b72f750e-e333-47ed-ad34-2e0a68e18a06",
   "metadata": {},
   "source": [
    "La fonction print() permet d'afficher les outputs intermédiaires"
   ]
  },
  {
   "cell_type": "code",
   "execution_count": 22,
   "id": "ef906bbc-8af3-48e7-a61b-8338c9ad8dda",
   "metadata": {},
   "outputs": [
    {
     "name": "stdout",
     "output_type": "stream",
     "text": [
      "5\n",
      "9\n"
     ]
    }
   ],
   "source": [
    "print(3 + 2)\n",
    "print(4 + 5)"
   ]
  },
  {
   "cell_type": "markdown",
   "id": "afd20d73-9c5b-4080-87e4-76b8648eaa09",
   "metadata": {},
   "source": [
    "## 1.4 Variables\n",
    "En programmation, une variable sert à stocker une information. \n",
    "<br>\n",
    "En Python, une variable se définit en utilisant la commande $=$. \n",
    "<br>\n",
    "Par exemple, pour stocker la valeur $5$ dans la variable $x$, on procède de la manière suivante.\n",
    "<br>\n",
    "Pour afficher la valeur d'une variable ou d'une fonction, on utilise la fonction **print()**."
   ]
  },
  {
   "cell_type": "code",
   "execution_count": 23,
   "id": "726cebf6-73d9-47e8-b5e6-493b9cf3ec83",
   "metadata": {},
   "outputs": [
    {
     "name": "stdout",
     "output_type": "stream",
     "text": [
      "5\n"
     ]
    }
   ],
   "source": [
    "x = 5\n",
    "print(x)"
   ]
  },
  {
   "cell_type": "markdown",
   "id": "5bdb5941-c011-40e2-a25e-90b4b5c421bf",
   "metadata": {},
   "source": [
    "On dit qu’on **assigne** la valeur $5$ à la variable $x$. \n",
    "<br>\n",
    "On peut ensuite utiliser la variable $x$ dans les opérations présentées au point $1.1$."
   ]
  },
  {
   "cell_type": "code",
   "execution_count": 24,
   "id": "cae3dba9-efa3-4edd-9cd4-551fb7948957",
   "metadata": {},
   "outputs": [
    {
     "data": {
      "text/plain": [
       "8"
      ]
     },
     "execution_count": 24,
     "metadata": {},
     "output_type": "execute_result"
    }
   ],
   "source": [
    "x + 3 "
   ]
  },
  {
   "cell_type": "code",
   "execution_count": 25,
   "id": "1e1573c4-b934-47e4-a753-3a3b9e682cbe",
   "metadata": {},
   "outputs": [],
   "source": [
    "x = True"
   ]
  },
  {
   "cell_type": "code",
   "execution_count": 26,
   "id": "270b4b26-edc9-40d5-980c-201f9373fb23",
   "metadata": {},
   "outputs": [
    {
     "data": {
      "text/plain": [
       "False"
      ]
     },
     "execution_count": 26,
     "metadata": {},
     "output_type": "execute_result"
    }
   ],
   "source": [
    "x & False"
   ]
  },
  {
   "cell_type": "markdown",
   "id": "8efa2891-adbe-46ea-b4e7-bb839f7e3602",
   "metadata": {},
   "source": [
    "Nous verrons dans la suite de ce cours que les variables sont extrêmement utiles pour stocker toutes sortes d’objets (valeurs, vecteurs, data frames, ...)."
   ]
  },
  {
   "cell_type": "markdown",
   "id": "b049a5fd-a40f-4ed9-b701-0829381d2da3",
   "metadata": {},
   "source": [
    "## 1.5 Types de données"
   ]
  },
  {
   "cell_type": "markdown",
   "id": "217dc15f-769f-4bbc-87d5-3ec40a817d36",
   "metadata": {},
   "source": [
    "Pour connaître le type d’une variable (que l'on appelle aussi la classe), on utilise la commande **type()**.\n",
    "<br>\n",
    "Une grande variété de types de données peut être stockée dans une variable,\n",
    "en voici les principales. "
   ]
  },
  {
   "attachments": {},
   "cell_type": "markdown",
   "id": "7bb6555b-4475-4c40-a88f-5ebf46e71fa4",
   "metadata": {},
   "source": [
    "**Numériques (float)** \n",
    "<br>\n",
    "C’est le type de tous les nombres réels (éléments de l’ensemble $\\mathbb{R}$).\n",
    "<br>\n",
    "On peut définir une variable numérique en utilisant la commande **float()**."
   ]
  },
  {
   "cell_type": "code",
   "execution_count": 27,
   "id": "2786f5c1-f78f-4af8-bed3-4dd8383272de",
   "metadata": {},
   "outputs": [
    {
     "data": {
      "text/plain": [
       "float"
      ]
     },
     "execution_count": 27,
     "metadata": {},
     "output_type": "execute_result"
    }
   ],
   "source": [
    "x = 3.14159\n",
    "type(x)"
   ]
  },
  {
   "attachments": {},
   "cell_type": "markdown",
   "id": "6e4c5188-1807-4b58-b424-bd98309bc7be",
   "metadata": {},
   "source": [
    "**Entières (int)**\n",
    "<br>\n",
    "Il est parfois utile en programmation de travailler avec des entiers (éléments\n",
    "de l’ensemble $\\mathbb{N}$).\n",
    "<br>\n",
    "On peut définir une variable entière en utilisant la commande **int()**.\n",
    "<br>\n",
    "Si un float est converti en int, seule la partie entière est retenue."
   ]
  },
  {
   "cell_type": "code",
   "execution_count": 28,
   "id": "b2df811f-30ed-4247-b558-6ce48c944bd1",
   "metadata": {},
   "outputs": [
    {
     "data": {
      "text/plain": [
       "int"
      ]
     },
     "execution_count": 28,
     "metadata": {},
     "output_type": "execute_result"
    }
   ],
   "source": [
    "x = 3\n",
    "type(x)"
   ]
  },
  {
   "cell_type": "code",
   "execution_count": 29,
   "id": "c24e74a4-fa30-4498-8c89-7e3f9df02412",
   "metadata": {},
   "outputs": [
    {
     "data": {
      "text/plain": [
       "3"
      ]
     },
     "execution_count": 29,
     "metadata": {},
     "output_type": "execute_result"
    }
   ],
   "source": [
    "int(3.9)"
   ]
  },
  {
   "attachments": {},
   "cell_type": "markdown",
   "id": "eb6d1d10-5913-4086-bff1-859da7dc1f07",
   "metadata": {},
   "source": [
    "**Complexes (complex)**\n",
    "<br>\n",
    "C’est le type des nombres complexes (éléments de l’ensemble $\\mathbb{C}$).\n",
    "<br>\n",
    "En python, c'est la lettre **j** qui correspond à la partie imaginaire d'un nombre et non la lettre **i**.\n",
    "<br>\n",
    "Un nombre complex $x=a+jb$ se définit avec la commande **complex(a,b)** ou la notation classic **a+bj**.\n",
    "<br>\n",
    "On peut définir une variable complexe en utilisant la commande **complex()**."
   ]
  },
  {
   "cell_type": "code",
   "execution_count": 30,
   "id": "3743fe10-8bad-42aa-9ca3-0146372337a4",
   "metadata": {},
   "outputs": [
    {
     "name": "stdout",
     "output_type": "stream",
     "text": [
      "(2+3j)\n",
      "(2+3j)\n"
     ]
    }
   ],
   "source": [
    "print(complex(2,3))\n",
    "print(2 + 3j)"
   ]
  },
  {
   "cell_type": "code",
   "execution_count": 31,
   "id": "9eab4860-6d96-4524-8414-bcdaf4339003",
   "metadata": {},
   "outputs": [
    {
     "data": {
      "text/plain": [
       "float"
      ]
     },
     "execution_count": 31,
     "metadata": {},
     "output_type": "execute_result"
    }
   ],
   "source": [
    "x = 3.14159\n",
    "type(x)"
   ]
  },
  {
   "cell_type": "code",
   "execution_count": 32,
   "id": "251ad02f-c193-4514-9060-b53d37a77277",
   "metadata": {},
   "outputs": [
    {
     "data": {
      "text/plain": [
       "int"
      ]
     },
     "execution_count": 32,
     "metadata": {},
     "output_type": "execute_result"
    }
   ],
   "source": [
    "x = 3\n",
    "type(x)"
   ]
  },
  {
   "cell_type": "code",
   "execution_count": 33,
   "id": "49e66e8b-5a5e-4080-93a0-ff1156f772a9",
   "metadata": {},
   "outputs": [
    {
     "name": "stdout",
     "output_type": "stream",
     "text": [
      "<class 'float'>\n",
      "3.0\n",
      "(3+0j)\n",
      "<class 'complex'>\n"
     ]
    }
   ],
   "source": [
    "y = float(x)\n",
    "print(type(y))\n",
    "print(y)\n",
    "z = complex(x)\n",
    "print(z)\n",
    "print(type(z))"
   ]
  },
  {
   "cell_type": "markdown",
   "id": "8b3fd935-e592-41ad-a09c-056451eb2578",
   "metadata": {},
   "source": [
    "Il est très important en programmation de savoir avec quelles types de données l'ordinateur travaille!\n",
    "<br>\n",
    "Souvent, une erreure du type **nan** (not a number) peut s'afficher si un type incorrect est utilisé.\n",
    "<br>\n",
    "Par exemple, $\\sqrt{-1}$ n'existe pas dans l'ensemble $\\mathbb{R}$ mais existe dans l'ensemble $\\mathbb{C}$."
   ]
  },
  {
   "cell_type": "code",
   "execution_count": 34,
   "id": "b27f2316-cf91-4036-8db0-8bbd839be9ac",
   "metadata": {},
   "outputs": [
    {
     "name": "stderr",
     "output_type": "stream",
     "text": [
      "/tmp/ipykernel_328/3438155168.py:1: RuntimeWarning: invalid value encountered in sqrt\n",
      "  np.sqrt(-1)\n"
     ]
    },
    {
     "data": {
      "text/plain": [
       "nan"
      ]
     },
     "execution_count": 34,
     "metadata": {},
     "output_type": "execute_result"
    }
   ],
   "source": [
    "np.sqrt(-1)"
   ]
  },
  {
   "cell_type": "code",
   "execution_count": 35,
   "id": "35d94c93-9fe7-467d-ba82-0366e941518c",
   "metadata": {},
   "outputs": [
    {
     "data": {
      "text/plain": [
       "1j"
      ]
     },
     "execution_count": 35,
     "metadata": {},
     "output_type": "execute_result"
    }
   ],
   "source": [
    "np.sqrt(complex(-1))"
   ]
  },
  {
   "attachments": {},
   "cell_type": "markdown",
   "id": "87e75f3a-0908-4afe-b62f-5c23400fca43",
   "metadata": {},
   "source": [
    "**Caractères (str)**\n",
    "<br>\n",
    "C’est le type de tout ce qui est littéral. \n",
    "<br>\n",
    "Pour faire comprendre à Python que l’on travaille avec une expression littérale et non une variable, on utilise les\n",
    "guillemets \"...\".\n",
    "<br>\n",
    "On peut définir une variable littérale à l'aide de la commande **str()**."
   ]
  },
  {
   "cell_type": "code",
   "execution_count": 36,
   "id": "92751f02-57dd-4094-861b-504ee3aeef0c",
   "metadata": {},
   "outputs": [
    {
     "name": "stdout",
     "output_type": "stream",
     "text": [
      "Hello world\n"
     ]
    }
   ],
   "source": [
    "print(\"Hello world\")"
   ]
  },
  {
   "cell_type": "code",
   "execution_count": 37,
   "id": "9936d76a-035c-48fa-a42c-398596c47e33",
   "metadata": {},
   "outputs": [
    {
     "name": "stdout",
     "output_type": "stream",
     "text": [
      "<class 'str'>\n",
      "5\n"
     ]
    }
   ],
   "source": [
    "x = 5\n",
    "y = str(x)\n",
    "print(type(y))\n",
    "print(y)"
   ]
  },
  {
   "cell_type": "markdown",
   "id": "d65a4b5c-db60-469a-8ae0-48cb418060d6",
   "metadata": {},
   "source": [
    "Il n'est pas possible de faire des opérations numériques en mélangeant des types str avec des types numériques."
   ]
  },
  {
   "cell_type": "code",
   "execution_count": 38,
   "id": "6b692376-be7a-45f7-9a85-944395661a5b",
   "metadata": {},
   "outputs": [
    {
     "ename": "TypeError",
     "evalue": "can only concatenate str (not \"int\") to str",
     "output_type": "error",
     "traceback": [
      "\u001b[0;31m---------------------------------------------------------------------------\u001b[0m",
      "\u001b[0;31mTypeError\u001b[0m                                 Traceback (most recent call last)",
      "\u001b[1;32m/home/endeavouros/ownCloud/Postdoc/Enseignement/Tutoriel Python/tutoriel_python_1.ipynb Cellule 72\u001b[0m in \u001b[0;36m<cell line: 2>\u001b[0;34m()\u001b[0m\n\u001b[1;32m      <a href='vscode-notebook-cell:/home/endeavouros/ownCloud/Postdoc/Enseignement/Tutoriel%20Python/tutoriel_python_1.ipynb#Y131sZmlsZQ%3D%3D?line=0'>1</a>\u001b[0m x \u001b[39m=\u001b[39m \u001b[39mstr\u001b[39m(\u001b[39m5\u001b[39m)\n\u001b[0;32m----> <a href='vscode-notebook-cell:/home/endeavouros/ownCloud/Postdoc/Enseignement/Tutoriel%20Python/tutoriel_python_1.ipynb#Y131sZmlsZQ%3D%3D?line=1'>2</a>\u001b[0m x \u001b[39m+\u001b[39;49m \u001b[39m3\u001b[39;49m\n",
      "\u001b[0;31mTypeError\u001b[0m: can only concatenate str (not \"int\") to str"
     ]
    }
   ],
   "source": [
    "x = str(5)\n",
    "x + 3"
   ]
  },
  {
   "attachments": {},
   "cell_type": "markdown",
   "id": "0c5e7c8f-6ae5-4bf6-8f1b-af553a5079b4",
   "metadata": {},
   "source": [
    "**Logiques**\n",
    "<br>\n",
    "C’est le type des opérateurs logiques vus précédemment."
   ]
  },
  {
   "cell_type": "code",
   "execution_count": 39,
   "id": "b2080ffa-6568-4a3e-b018-db0c06c7aa61",
   "metadata": {},
   "outputs": [
    {
     "data": {
      "text/plain": [
       "bool"
      ]
     },
     "execution_count": 39,
     "metadata": {},
     "output_type": "execute_result"
    }
   ],
   "source": [
    "x = True\n",
    "type(x)"
   ]
  },
  {
   "cell_type": "markdown",
   "id": "a47041db-a5d9-46cc-98a1-185bfe822d79",
   "metadata": {},
   "source": [
    "## 1.6 Commentaires"
   ]
  },
  {
   "cell_type": "markdown",
   "id": "f04930c8-a75e-4af8-bf19-5e63ac9f5dc1",
   "metadata": {},
   "source": [
    "La commande $\\#$ permet de commenter notre code, c’est à dire ajouter\n",
    "du texte pour décrire ce que le code fait. \n",
    "<br>\n",
    "Ce texte ne sera pas compilé."
   ]
  },
  {
   "cell_type": "code",
   "execution_count": 40,
   "id": "6b8622cd-d376-4085-a205-d5f8ab2fa034",
   "metadata": {},
   "outputs": [
    {
     "data": {
      "text/plain": [
       "5"
      ]
     },
     "execution_count": 40,
     "metadata": {},
     "output_type": "execute_result"
    }
   ],
   "source": [
    "# additionner 2 et 3\n",
    "2+3"
   ]
  },
  {
   "cell_type": "markdown",
   "id": "d87cbd72-bb10-4ba3-9152-4dc356a8635c",
   "metadata": {},
   "source": [
    "Les commmentaires sont très importants pour rendre le code lisible et compréhensible."
   ]
  },
  {
   "cell_type": "markdown",
   "id": "45145c59-9396-46f4-b19e-2e97b29a183b",
   "metadata": {},
   "source": [
    "## 1.7 Aide"
   ]
  },
  {
   "cell_type": "markdown",
   "id": "ff92e3db-c6ca-4ed7-acbd-adcdedba6711",
   "metadata": {},
   "source": [
    "Pour obtenir de l’aide à propos d’une commande en Pyton, vous pouvez\n",
    "utilisez la commande **help()**."
   ]
  },
  {
   "cell_type": "code",
   "execution_count": 41,
   "id": "755dc147-792e-4549-99b3-6655523270ff",
   "metadata": {},
   "outputs": [
    {
     "name": "stdout",
     "output_type": "stream",
     "text": [
      "Help on built-in function print in module builtins:\n",
      "\n",
      "print(...)\n",
      "    print(value, ..., sep=' ', end='\\n', file=sys.stdout, flush=False)\n",
      "    \n",
      "    Prints the values to a stream, or to sys.stdout by default.\n",
      "    Optional keyword arguments:\n",
      "    file:  a file-like object (stream); defaults to the current sys.stdout.\n",
      "    sep:   string inserted between values, default a space.\n",
      "    end:   string appended after the last value, default a newline.\n",
      "    flush: whether to forcibly flush the stream.\n",
      "\n"
     ]
    }
   ],
   "source": [
    "help(print)"
   ]
  }
 ],
 "metadata": {
  "celltoolbar": "Diaporama",
  "kernelspec": {
   "display_name": "base",
   "language": "python",
   "name": "python3"
  },
  "language_info": {
   "codemirror_mode": {
    "name": "ipython",
    "version": 3
   },
   "file_extension": ".py",
   "mimetype": "text/x-python",
   "name": "python",
   "nbconvert_exporter": "python",
   "pygments_lexer": "ipython3",
   "version": "3.9.13"
  },
  "vscode": {
   "interpreter": {
    "hash": "2843cabd0433704bf9af0eb427e5fac31b8e3c43971b08ae8afc4b2111159d22"
   }
  }
 },
 "nbformat": 4,
 "nbformat_minor": 5
}
