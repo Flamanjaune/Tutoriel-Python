{
  "cells": [
    {
      "attachments": {},
      "cell_type": "markdown",
      "id": "cfebed6d-f486-4b29-997c-6d025a8809da",
      "metadata": {
        "trusted": true
      },
      "source": [
        "# 6 Statistiques"
      ]
    },
    {
      "cell_type": "code",
      "execution_count": null,
      "id": "d0dd79ae-8a97-4a26-b85d-36b5f3c646e1",
      "metadata": {
        "trusted": true
      },
      "outputs": [],
      "source": []
    }
  ],
  "metadata": {
    "celltoolbar": "Diaporama",
    "kernelspec": {
      "display_name": "base",
      "language": "python",
      "name": "python3"
    },
    "language_info": {
      "codemirror_mode": {
        "name": "ipython",
        "version": 3
      },
      "file_extension": ".py",
      "mimetype": "text/x-python",
      "name": "python",
      "nbconvert_exporter": "python",
      "pygments_lexer": "ipython3",
      "version": "3.9.13"
    },
    "vscode": {
      "interpreter": {
        "hash": "2843cabd0433704bf9af0eb427e5fac31b8e3c43971b08ae8afc4b2111159d22"
      }
    }
  },
  "nbformat": 4,
  "nbformat_minor": 5
}
